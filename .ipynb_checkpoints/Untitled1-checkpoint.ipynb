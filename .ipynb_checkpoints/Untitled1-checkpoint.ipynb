{
 "cells": [
  {
   "cell_type": "code",
   "execution_count": 1,
   "id": "e99f8636-5949-4422-a4c8-ad1c5d35f90e",
   "metadata": {},
   "outputs": [],
   "source": [
    "from sklearn.model_selection import train_test_split\n",
    "from sklearn.linear_model import LogisticRegression\n",
    "\n",
    "import matplotlib.pyplot as plt\n",
    "from sklearn.datasets import fetch_openml\n",
    "import numpy as np\n",
    "from PIL import Image\n",
    "from sklearn.metrics import accuracy_score\n",
    "import pickle\n"
   ]
  },
  {
   "cell_type": "code",
   "execution_count": 2,
   "id": "8a9c283d-960c-491e-9e13-8e342cdd69c8",
   "metadata": {},
   "outputs": [],
   "source": [
    "mnist = fetch_openml('mnist_784', version=1)"
   ]
  },
  {
   "cell_type": "code",
   "execution_count": 3,
   "id": "8d83e26b-6218-419f-9c5d-e0e08f123f94",
   "metadata": {},
   "outputs": [],
   "source": [
    "from model import myPCA\n",
    "myPCA = myPCA(n_components=2)"
   ]
  },
  {
   "cell_type": "code",
   "execution_count": 4,
   "id": "d9562149-d945-46ca-94b1-9731d117c68b",
   "metadata": {},
   "outputs": [],
   "source": [
    "X = mnist.data.astype('float32')\n",
    "y = mnist.target.astype('int64')\n",
    "mask = np.logical_or(y == 0, y == 8)\n",
    "X = X[mask]\n",
    "y = y[mask]\n",
    "X /= 255.0\n",
    "\n",
    "X_eigenMN= X.copy()\n",
    "# fit the data\n",
    "myPCA.fit(X_eigenMN)\n",
    "\n",
    "# transform the data using the PCA object\n",
    "X_transformed_eigenMN = myPCA.fit_transform(X_eigenMN)\n",
    "\n",
    "# X_train, X_test, y_train, y_test = train_test_split(X_transformed_eigenMN, y, test_size=0.2, random_state=42)"
   ]
  },
  {
   "cell_type": "code",
   "execution_count": 9,
   "id": "d8c90e0f-b5e1-4205-aeb9-f5e40fa5f3f7",
   "metadata": {},
   "outputs": [],
   "source": [
    "X_transformed_eigenMN=np.real(X_transformed_eigenMN)"
   ]
  },
  {
   "cell_type": "code",
   "execution_count": 11,
   "id": "907506d8-a9db-46c5-b1d9-5d8d26f34e13",
   "metadata": {},
   "outputs": [
    {
     "name": "stdout",
     "output_type": "stream",
     "text": [
      "Test accuracy PCA - eigen : 95.45%\n"
     ]
    }
   ],
   "source": [
    "X_train, X_test, y_train, y_test = train_test_split(X_transformed_eigenMN, y, test_size=0.2, random_state=42)\n",
    "model = LogisticRegression(penalty='none', solver='saga')\n",
    "model.fit(X_train, y_train)\n",
    "accuracy = model.score(X_test, y_test)\n",
    "print('Test accuracy PCA - eigen : %.2f%%' % (accuracy * 100))"
   ]
  },
  {
   "cell_type": "code",
   "execution_count": 13,
   "id": "d01c35ff-60b1-4ff3-92af-fbf3ea39754d",
   "metadata": {},
   "outputs": [
    {
     "data": {
      "text/plain": [
       "(1, 784)"
      ]
     },
     "execution_count": 13,
     "metadata": {},
     "output_type": "execute_result"
    }
   ],
   "source": [
    "np.array(np.mean(X_eigenMN, axis=0)).reshape(1,-1).shape"
   ]
  },
  {
   "cell_type": "code",
   "execution_count": null,
   "id": "d413ec72-9a34-437f-aefc-59cb69833d6b",
   "metadata": {},
   "outputs": [],
   "source": []
  },
  {
   "cell_type": "code",
   "execution_count": 14,
   "id": "fb583515-366d-4796-b5a1-41f77794aba3",
   "metadata": {},
   "outputs": [],
   "source": [
    "x=X_eigenMN\n",
    "n_components=2\n",
    "cov_matrix=np.cov(x, rowvar=False)\n",
    "#take de eingevalues and eingevector\n",
    "eigenvalues, eigenvectors = np.linalg.eig(cov_matrix)\n",
    "#sort them\n",
    "sorted_indexes = np.argsort(eigenvalues)[::-1]\n",
    "sorted_eigenvalues = eigenvalues[sorted_indexes]\n",
    "sorted_eigenvectors = eigenvectors[:,sorted_indexes]\n",
    "#take the sorted componentes we need\n",
    "selected_eigenvectors = sorted_eigenvectors[:, :n_components]"
   ]
  },
  {
   "cell_type": "code",
   "execution_count": 15,
   "id": "07d79d8f-d528-44f5-9a9f-6eb983668b14",
   "metadata": {},
   "outputs": [
    {
     "data": {
      "text/plain": [
       "(13728, 784)"
      ]
     },
     "execution_count": 15,
     "metadata": {},
     "output_type": "execute_result"
    }
   ],
   "source": [
    "X_eigenMN.shape"
   ]
  },
  {
   "cell_type": "code",
   "execution_count": 21,
   "id": "64343f16-04b8-4662-9a3b-eaa78ecea1ab",
   "metadata": {},
   "outputs": [],
   "source": [
    "img = Image.open('ocho.png').convert('L')\n",
    "img = img.resize((28, 28))\n",
    "img = np.array(img).astype('float32') / 255.0\n",
    "img2=img.reshape(1,-1)\n",
    "# myPCA.fit(X_eigenMN)\n",
    "img_reduced = myPCA.transform(img2)\n",
    "# pred = model.predict(np.real(img_reduced[0]))\n",
    "# print('Predecilo pues:', pred[0])"
   ]
  },
  {
   "cell_type": "code",
   "execution_count": 22,
   "id": "87253aff-1df9-4445-b2e0-d189d101b45a",
   "metadata": {},
   "outputs": [
    {
     "data": {
      "text/plain": [
       "array([[0.16197675]])"
      ]
     },
     "execution_count": 22,
     "metadata": {},
     "output_type": "execute_result"
    }
   ],
   "source": [
    "img_reduced[1]"
   ]
  },
  {
   "cell_type": "code",
   "execution_count": 26,
   "id": "b784a098-6fcd-46df-833c-78bc0848da15",
   "metadata": {},
   "outputs": [
    {
     "data": {
      "text/plain": [
       "0.1619767538425627"
      ]
     },
     "execution_count": 26,
     "metadata": {},
     "output_type": "execute_result"
    }
   ],
   "source": [
    "np.mean(img_reduced[2])"
   ]
  },
  {
   "cell_type": "code",
   "execution_count": null,
   "id": "96d74089-3e0a-4008-9204-2835ad4b2747",
   "metadata": {},
   "outputs": [],
   "source": [
    "(img2-np.array(np.mean(X_eigenMN, axis=0)).reshape(1,-1))@selected_eigenvectors"
   ]
  },
  {
   "cell_type": "code",
   "execution_count": null,
   "id": "bd7e8ca8-e221-4a88-a129-cf2c51cf3544",
   "metadata": {},
   "outputs": [],
   "source": [
    "img_reduced"
   ]
  },
  {
   "cell_type": "code",
   "execution_count": null,
   "id": "0397be60-b1ac-4a43-8589-c55fe8c48ba4",
   "metadata": {},
   "outputs": [],
   "source": [
    "np.array(np.mean(X_eigenMN, axis=0)).reshape(1,-1)"
   ]
  }
 ],
 "metadata": {
  "kernelspec": {
   "display_name": "Python 3 (ipykernel)",
   "language": "python",
   "name": "python3"
  },
  "language_info": {
   "codemirror_mode": {
    "name": "ipython",
    "version": 3
   },
   "file_extension": ".py",
   "mimetype": "text/x-python",
   "name": "python",
   "nbconvert_exporter": "python",
   "pygments_lexer": "ipython3",
   "version": "3.9.13"
  }
 },
 "nbformat": 4,
 "nbformat_minor": 5
}
