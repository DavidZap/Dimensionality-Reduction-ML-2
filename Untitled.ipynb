{
 "cells": [
  {
   "cell_type": "code",
   "execution_count": 1,
   "id": "44f6ca89-ef8d-4b9d-b459-4e643a5c1de7",
   "metadata": {},
   "outputs": [],
   "source": [
    "import matplotlib.pyplot as plt\n",
    "import matplotlib.image as mpimg\n",
    "import os\n",
    "import numpy as np\n",
    "import pandas as pd\n",
    "from sklearn.datasets import fetch_openml\n",
    "from sklearn.linear_model import LogisticRegression\n",
    "from sklearn.model_selection import train_test_split\n",
    "from sklearn.decomposition import PCA"
   ]
  },
  {
   "cell_type": "code",
   "execution_count": null,
   "id": "f8699172-57bf-4d25-bda2-fd72ea3beb5b",
   "metadata": {},
   "outputs": [],
   "source": [
    "# Define the folder where the images are located\n",
    "Originalfolder  = 'C:\\\\Users\\\\acdzapata\\\\Documents\\\\Personal\\\\Especialización\\\\ML 2\\\\imagenes'\n",
    "FinalFolder = 'C:\\\\Users\\\\acdzapata\\\\Documents\\\\Personal\\\\Especialización\\\\ML 2\\\\imagenes2'"
   ]
  },
  {
   "cell_type": "markdown",
   "id": "420df998-a95e-4c2d-832e-3ebdbe9201bb",
   "metadata": {
    "tags": []
   },
   "source": [
    "### 2. Add a steady, well-centered picture of your face to a shared folder alongside your classmates.\n",
    "* Edit your picture to be 256x256 pixels, grayscale (single channel)\n",
    "* Plot your edited face\n",
    "* Calculate and plot the average face of the cohort.\n",
    "* How distant is your face from the average? How would you measure it?"
   ]
  },
  {
   "cell_type": "code",
   "execution_count": null,
   "id": "0b7294de-3957-4c02-a710-82f2c4980c78",
   "metadata": {},
   "outputs": [],
   "source": [
    "from utils import Utils\n",
    "utils = Utils() #initialized constructor"
   ]
  },
  {
   "cell_type": "code",
   "execution_count": null,
   "id": "747ecd8b-2375-4c30-9444-59604f4b1546",
   "metadata": {},
   "outputs": [],
   "source": [
    "imgyo=utils.image_convert('Foto.jpg','','')\n",
    "plt.imshow(imgyo, cmap='gray')\n",
    "imgyo.shape"
   ]
  },
  {
   "cell_type": "code",
   "execution_count": null,
   "id": "04e1dca8-ea10-467c-944f-7fffe7deb15e",
   "metadata": {},
   "outputs": [],
   "source": [
    "# Load all the images into an array\n",
    "images = []\n",
    "for filename in os.listdir(Originalfolder):\n",
    "    img=utils.image_convert(filename,Originalfolder,FinalFolder)\n",
    "    plt.imshow(img)\n",
    "    images.append(img)\n",
    "\n",
    "\n",
    "# Calculate the average image\n",
    "avg_img = np.mean(images, axis=0)\n",
    "\n",
    "# Display the average image\n",
    "plt.imshow(avg_img, cmap='gray')\n",
    "plt.show()"
   ]
  },
  {
   "cell_type": "code",
   "execution_count": null,
   "id": "463c925d-01d9-49a3-b66f-7441e3d69799",
   "metadata": {},
   "outputs": [],
   "source": [
    "# Calculate the Euclidean distance between my face and the average face\n",
    "distance = np.linalg.norm(imgyo - avg_img)\n",
    "\n",
    "#np.linalg.norm() calculates the norm of a givn vector or matrix.Remember \n",
    "#that the norm is a mathematical concept that measures the \"size\" or \"magnitude\" of a vector or matrix.\n",
    "\n",
    "print(f'The distance between my face and the average face is {distance:.2f}')"
   ]
  },
  {
   "cell_type": "markdown",
   "id": "ed70a0c9-85ef-4d3e-ad29-e47e61efe7cc",
   "metadata": {
    "jp-MarkdownHeadingCollapsed": true,
    "tags": []
   },
   "source": [
    "### 3. Let’s create the unsupervised Python package\n",
    "* Same API as scikit-learn: fit(), fit_transform(), transform(), hyperparams at init\n",
    "* Manage dependencies with Pipenv or Poetry.\n",
    "* Implement SVD from scratch using Python and NumPy.\n",
    "* Implement PCA from scratch using Python and NumPy.\n",
    "* Implement t-SNE from scratch using Python and NumPy."
   ]
  },
  {
   "cell_type": "markdown",
   "id": "39dfecea-1ae8-4ee9-ab06-b10e35224ad5",
   "metadata": {
    "tags": []
   },
   "source": [
    "#### Let's start testing it with the wine dataset from sklearn Library"
   ]
  },
  {
   "cell_type": "code",
   "execution_count": null,
   "id": "e820ecb3-5c52-41f6-ab61-900bf509c2a3",
   "metadata": {},
   "outputs": [],
   "source": [
    "import matplotlib.pyplot as plt\n",
    "from sklearn.datasets import load_wine\n",
    "\n",
    "# Load DataSet\n",
    "wine_data = load_wine()\n",
    "X, y = wine_data['data'], wine_data['target']\n",
    "\n",
    "print(X.shape)\n",
    "print(y.shape)"
   ]
  },
  {
   "cell_type": "code",
   "execution_count": null,
   "id": "18a1b479-67c2-447f-a828-5c3df317d1cf",
   "metadata": {},
   "outputs": [],
   "source": [
    "plot = plt.scatter(X[:,0], X[:,2], c=y)\n",
    "\n",
    "plt.legend(handles=plot.legend_elements()[0], \n",
    "           labels=list(wine_data['target_names']))\n",
    "\n",
    "plt.show()"
   ]
  },
  {
   "cell_type": "markdown",
   "id": "dbdb9aff-0a94-4354-b19a-758ece3a8b4e",
   "metadata": {
    "tags": []
   },
   "source": [
    "##### myPCA for eigen method"
   ]
  },
  {
   "cell_type": "code",
   "execution_count": null,
   "id": "4504f2b6-d0a2-4cb3-b101-5956832c16ee",
   "metadata": {},
   "outputs": [],
   "source": [
    "# create a PCA object with 2 components\n",
    "from model import myPCA\n",
    "myPCA = myPCA(n_components=2)\n",
    "\n",
    "myPca_eigen = myPCA\n",
    "X_eigen=X.copy()\n",
    "# fit the data\n",
    "myPca_eigen.fit(X_eigen)\n",
    "\n",
    "# transform the data using the PCA object\n",
    "Xtransformedmyeigen= myPca_eigen.fit_transform(X_eigen)\n",
    "\n",
    "print(Xtransformedmyeigen.shape)"
   ]
  },
  {
   "cell_type": "markdown",
   "id": "0c936159-aa4c-4611-b0c6-226e59232098",
   "metadata": {},
   "source": [
    "Plotting two random features of raw data"
   ]
  },
  {
   "cell_type": "code",
   "execution_count": null,
   "id": "3c2ed66a-d216-4d68-b866-2e8ee7f0a57f",
   "metadata": {},
   "outputs": [],
   "source": [
    "utils.plotv1(Xtransformedmyeigen,list(wine_data['target_names']),y)"
   ]
  },
  {
   "cell_type": "markdown",
   "id": "37448ba9-8bd9-48c1-aa67-3ce720c95e3f",
   "metadata": {},
   "source": [
    "PCA is sensitive to the scale!\n",
    "Let's see if normalizing each feature by StandardScaler helps!"
   ]
  },
  {
   "cell_type": "code",
   "execution_count": null,
   "id": "12f7a26f-61a9-4970-9431-d7826eb0ba84",
   "metadata": {},
   "outputs": [],
   "source": [
    "utils.plot_ss(X_eigen,2,\"eigen\",list(wine_data['target_names']),y)"
   ]
  },
  {
   "cell_type": "markdown",
   "id": "237abe66-223b-4132-9524-46bc22c89d09",
   "metadata": {
    "tags": []
   },
   "source": [
    "##### myPCA for svd method"
   ]
  },
  {
   "cell_type": "code",
   "execution_count": null,
   "id": "cb36dbba-2d5e-470b-b118-907c0d7674eb",
   "metadata": {},
   "outputs": [],
   "source": [
    "# create a PCA object with 2 components\n",
    "from model import myPCA\n",
    "myPCA = myPCA(n_components=2, method=\"svd\")\n",
    "\n",
    "myPca_svd = myPCA\n",
    "X_svd=X.copy()\n",
    "# fit the data\n",
    "myPca_svd.fit(X_svd)\n",
    "\n",
    "# transform the data using the PCA object\n",
    "Xtransformedmysvd= myPca_svd.fit_transform(X_svd)\n",
    "\n",
    "print(Xtransformedmysvd.shape)\n"
   ]
  },
  {
   "cell_type": "code",
   "execution_count": null,
   "id": "d2469440-c03a-4c5c-be87-356300a6a149",
   "metadata": {},
   "outputs": [],
   "source": [
    "utils.plotv1(Xtransformedmysvd,list(wine_data['target_names']),y)"
   ]
  },
  {
   "cell_type": "code",
   "execution_count": null,
   "id": "430089f5-2255-4d33-9ab0-46fc41be50f1",
   "metadata": {},
   "outputs": [],
   "source": [
    "utils.plot_ss(X_svd,2,\"svd\",list(wine_data['target_names']),y)"
   ]
  },
  {
   "cell_type": "markdown",
   "id": "9953589c-a165-441e-a90e-e15ee7405546",
   "metadata": {
    "tags": []
   },
   "source": [
    "### 4. Apply SVD over the picture of your face, progressively increasing the number of singular values used. Is there any point where you can say the image is appropriately reproduced? How would you quantify how different your photo and the approximation are?"
   ]
  },
  {
   "cell_type": "code",
   "execution_count": null,
   "id": "829b5f9b-da84-4d9f-bda8-3585e73a51d7",
   "metadata": {},
   "outputs": [],
   "source": [
    "# create a PCA object with 2 components\n",
    "from model import myPCA\n",
    "myPCA = myPCA(n_components=256,method=\"svd\")\n",
    "\n",
    "# fit the data\n",
    "myPCA.fit(imgyo)\n",
    "\n",
    "# transform the data using the PCA object\n",
    "imgyoreinvented = myPCA.fit_transform(imgyo)\n",
    "\n",
    "# Reconstruct the image from the projected data\n",
    "img_rec = myPCA.inverse_transform(imgyo,imgyoreinvented)\n",
    "\n",
    "# reshape the reconstructed image back to 2D array\n",
    "img_rec = img_rec.reshape(imgyo.shape)\n",
    "\n",
    "print(img_rec.shape)"
   ]
  },
  {
   "cell_type": "markdown",
   "id": "e3c2881e-038a-4ec3-b5e3-c77933e06e1b",
   "metadata": {},
   "source": [
    "Run de PCA for the 256 components, and later analys the explained variance for each one."
   ]
  },
  {
   "cell_type": "code",
   "execution_count": null,
   "id": "dca1c0b6-2e16-4c08-afdd-480438e5fe25",
   "metadata": {},
   "outputs": [],
   "source": [
    "Var = myPCA.explained_variance_ratio() # the rate of variance of the components and generate the principal components\n",
    "\n",
    "fig = plt.figure(figsize=(6,4))\n",
    "plt.bar(np.arange(len(Var)), Var)\n",
    "plt.xlabel('Principal components')\n",
    "plt.ylabel('Rate of variance')\n",
    "plt.title('PCA')\n",
    "plt.xlim(0, len(Var))\n",
    "plt.show()"
   ]
  },
  {
   "cell_type": "code",
   "execution_count": null,
   "id": "7806d56f-1b11-4e81-b315-bec025d3cc4e",
   "metadata": {},
   "outputs": [],
   "source": [
    "componentsRate = pd.DataFrame(Var)\n",
    "componentsRate = componentsRate.T\n",
    "\n",
    "num_components = [10, 20, 30, 40, 50, 60, 70]\n",
    "for n in num_components:\n",
    "    var_rate = 100 * componentsRate.iloc[:, 0:n].sum(axis=1).values\n",
    "    print(f\"Variation rate detected for the first {n} components: {var_rate}\")\n"
   ]
  },
  {
   "cell_type": "markdown",
   "id": "e17d2ea5-cd47-4d90-8dfc-c34c1ecdfa82",
   "metadata": {},
   "source": [
    "Now, with this data, and looking for a minimum number of components who could explain a relevant variance (for example 80%), i think that with the first 40 components  will be enough\n"
   ]
  },
  {
   "cell_type": "code",
   "execution_count": null,
   "id": "2030f6ee-ddb4-4830-86f2-39a70aea56e2",
   "metadata": {},
   "outputs": [],
   "source": [
    "# create a PCA object with 2 components\n",
    "from model import myPCA\n",
    "myPCA = myPCA(n_components=40,method=\"svd\")\n",
    "\n",
    "# fit the data\n",
    "myPCA.fit(imgyo)\n",
    "\n",
    "# transform the data using the PCA object\n",
    "imgyoreinvented = myPCA.fit_transform(imgyo)\n",
    "\n",
    "# Reconstruct the image from the projected data\n",
    "img_rec = myPCA.inverse_transform(imgyo,imgyoreinvented)\n",
    "\n",
    "# reshape the reconstructed image back to 2D array\n",
    "img_rec = img_rec.reshape(imgyo.shape)\n",
    "\n",
    "print(img_rec.shape)"
   ]
  },
  {
   "cell_type": "code",
   "execution_count": null,
   "id": "0d40990e-290d-4c33-b494-0e37e263e346",
   "metadata": {},
   "outputs": [],
   "source": [
    "# Plot the original and reconstructed images\n",
    "fig, ax = plt.subplots(1, 2)\n",
    "ax[0].imshow(imgyo, cmap='gray')\n",
    "ax[0].set_title('Old Me')\n",
    "ax[1].imshow(img_rec, cmap='gray')\n",
    "ax[1].set_title('New...me?')\n",
    "plt.show()"
   ]
  },
  {
   "cell_type": "markdown",
   "id": "a19d587d-0fb0-4d8a-8c59-11330130c59f",
   "metadata": {},
   "source": [
    "With 40 components we can achieve a good approximation"
   ]
  },
  {
   "cell_type": "markdown",
   "id": "81a5a0ac-4553-449f-be8f-d637aca28e14",
   "metadata": {
    "jp-MarkdownHeadingCollapsed": true,
    "tags": []
   },
   "source": [
    "### 5. Train a naive logistic regression on raw MNIST images to distinguish between 0s and 8s. We are calling this our baseline. What can you tell about the baseline performance?"
   ]
  },
  {
   "cell_type": "code",
   "execution_count": null,
   "id": "8d5fd0f4-6929-4537-a306-b721b4a14aec",
   "metadata": {},
   "outputs": [],
   "source": [
    "mnist = fetch_openml('mnist_784')"
   ]
  },
  {
   "cell_type": "code",
   "execution_count": null,
   "id": "52f116ef-696d-4528-942d-40d76a401064",
   "metadata": {},
   "outputs": [],
   "source": [
    "X = mnist.data.astype('float32')\n",
    "y = mnist.target.astype('int64')\n",
    "mask = np.logical_or(y == 0, y == 8)\n",
    "X = X[mask]\n",
    "y = y[mask]\n",
    "\n",
    "X /= 255.0\n",
    "\n",
    "X_train, X_test, y_train, y_test = train_test_split(X, y, test_size=0.2, random_state=42)\n",
    "\n",
    "model = LogisticRegression(penalty='none', solver='saga')\n",
    "model.fit(X_train, y_train)\n",
    "\n",
    "accuracy = model.score(X_test, y_test)\n",
    "print('Test accuracy: %.2f%%' % (accuracy * 100))\n"
   ]
  },
  {
   "cell_type": "markdown",
   "id": "db33803c-30b7-4c72-9dd6-085e59ad46f1",
   "metadata": {},
   "source": [
    "The naive logistic regression have a great aproximation, with an accuracy of 99.42%"
   ]
  },
  {
   "cell_type": "markdown",
   "id": "9d5733a2-54aa-4655-b6cd-c40f21c0f9d1",
   "metadata": {
    "jp-MarkdownHeadingCollapsed": true,
    "tags": []
   },
   "source": [
    "### 6. Now, apply dimensionality reduction using all your algorithms to train the model with only 2 features per image.\n",
    "* Plot the 2 new features generated by your algorithm\n",
    "* Does this somehow impact the performance of your model?\n"
   ]
  },
  {
   "cell_type": "markdown",
   "id": "a5575321-e9d9-4fbc-8009-725d47cdaa7e",
   "metadata": {
    "jp-MarkdownHeadingCollapsed": true,
    "tags": []
   },
   "source": [
    "#### MNIST PCA eigen"
   ]
  },
  {
   "cell_type": "code",
   "execution_count": null,
   "id": "6b805851-87fe-4a99-9971-64a534e9a8f8",
   "metadata": {},
   "outputs": [],
   "source": [
    "# create a PCA object with 2 components\n",
    "from model import myPCA\n",
    "pca = myPCA(n_components=2)\n",
    "X_eigenMN= X.copy()\n",
    "# fit the data\n",
    "pca.fit(X_eigenMN)\n",
    "\n",
    "# transform the data using the PCA object\n",
    "X_transformed_eigenMN = pca.fit_transform(X_eigenMN)\n",
    "\n",
    "print(X_transformed_eigenMN.shape)"
   ]
  },
  {
   "cell_type": "code",
   "execution_count": null,
   "id": "c5fe0a99-5af0-41b7-9c2f-c40425de2bd0",
   "metadata": {
    "tags": []
   },
   "outputs": [],
   "source": [
    "utils.plotv1(X_transformed_eigenMN,list(set(y)),y)"
   ]
  },
  {
   "cell_type": "code",
   "execution_count": null,
   "id": "c61b0b22-36ee-417b-8e38-1d7ad7be72a1",
   "metadata": {
    "tags": []
   },
   "outputs": [],
   "source": [
    "utils.plot_ss(X_eigenMN,2,\"eigen\",list(set(y)),y)"
   ]
  },
  {
   "cell_type": "code",
   "execution_count": null,
   "id": "3a510803-3c6c-42ee-841f-ba27ae920c6a",
   "metadata": {},
   "outputs": [],
   "source": [
    "X_train, X_test, y_train, y_test = train_test_split(X_eigenMN, y, test_size=0.2, random_state=42)\n",
    "model = LogisticRegression(penalty='none', solver='saga')\n",
    "model.fit(X_train, y_train)\n",
    "accuracy = model.score(X_test, y_test)\n",
    "print('Test accuracy PCA - eigen : %.2f%%' % (accuracy * 100))"
   ]
  },
  {
   "cell_type": "markdown",
   "id": "7035b901-5ca0-4192-bc16-c5801d8b9f92",
   "metadata": {},
   "source": [
    "Does not have impact in the performance, the accuracy is the same"
   ]
  },
  {
   "cell_type": "markdown",
   "id": "0224bd1f-07f1-406f-83fc-e264d7b7c47e",
   "metadata": {
    "jp-MarkdownHeadingCollapsed": true,
    "tags": []
   },
   "source": [
    "#### MNIST PCA svd"
   ]
  },
  {
   "cell_type": "code",
   "execution_count": null,
   "id": "3d2c2319-2c6a-4c49-a99e-933b6d670d9b",
   "metadata": {},
   "outputs": [],
   "source": [
    "# create a PCA object with 2 components\n",
    "from model import myPCA\n",
    "pca = myPCA(n_components=2,method=\"svd\")\n",
    "X_svdMN= X.copy()\n",
    "# fit the data\n",
    "pca.fit(X_svdMN)\n",
    "\n",
    "# transform the data using the PCA object\n",
    "X_transformed_svdMN = pca.fit_transform(X_svdMN)"
   ]
  },
  {
   "cell_type": "code",
   "execution_count": null,
   "id": "9a3379a0-9121-4598-a6fc-dfa3a1f6b6fd",
   "metadata": {
    "tags": []
   },
   "outputs": [],
   "source": [
    "utils.plotv1(X_transformed_svdMN,list(set(y)),y)"
   ]
  },
  {
   "cell_type": "code",
   "execution_count": null,
   "id": "17ff0845-658d-42d7-abb7-9a5429ec7949",
   "metadata": {
    "tags": []
   },
   "outputs": [],
   "source": [
    "utils.plot_ss(X_svdMN,2,\"svd\",list(set(y)),y)"
   ]
  },
  {
   "cell_type": "code",
   "execution_count": null,
   "id": "bd192027-3703-4524-95b1-6795f96e5be4",
   "metadata": {},
   "outputs": [],
   "source": [
    "X_train, X_test, y_train, y_test = train_test_split(X_svdMN, y, test_size=0.2, random_state=42)\n",
    "model = LogisticRegression(penalty='none', solver='saga')\n",
    "model.fit(X_train, y_train)\n",
    "accuracy = model.score(X_test, y_test)\n",
    "print('Test accuracy PCA - svd : %.2f%%' % (accuracy * 100))"
   ]
  },
  {
   "cell_type": "markdown",
   "id": "6fcdd2b0-4d4a-4153-8a78-902de5f49c5d",
   "metadata": {},
   "source": [
    "With PCA under the method SVD, the accuracy computed is the equal to the baseline"
   ]
  },
  {
   "cell_type": "markdown",
   "id": "49c12ef5-dc19-45c8-8ab7-b83c8779683c",
   "metadata": {
    "jp-MarkdownHeadingCollapsed": true,
    "tags": []
   },
   "source": [
    "### 7. Repeat the process above but now using the built-in algorithms in the Scikit-Learn library. How differentare these results from those of your implementation? Why?"
   ]
  },
  {
   "cell_type": "code",
   "execution_count": null,
   "id": "ec98df50-560e-418f-b23e-95f8d868cf3e",
   "metadata": {},
   "outputs": [],
   "source": [
    "pca = PCA(n_components=2, svd_solver='full')\n",
    "X_pca_sk= X.copy()\n",
    "\n",
    "X_transformed_pca = pca.fit_transform(X_pca_sk)\n",
    "\n",
    "print(X_transformed_pca.shape)"
   ]
  },
  {
   "cell_type": "code",
   "execution_count": null,
   "id": "d3fe503d-93c5-4246-83b4-cad21ed07bfe",
   "metadata": {
    "tags": []
   },
   "outputs": [],
   "source": [
    "utils.plotv1(X_transformed_pca,list(set(y)),y)"
   ]
  },
  {
   "cell_type": "code",
   "execution_count": null,
   "id": "c4058c63-1e49-4010-9ddf-7d5193bbd92f",
   "metadata": {
    "tags": []
   },
   "outputs": [],
   "source": [
    "# Normalise the data\n",
    "from sklearn.preprocessing import StandardScaler\n",
    "from sklearn.pipeline import Pipeline\n",
    "scaler = StandardScaler()\n",
    "scaler.fit(X_pca_sk)\n",
    "X_normalised_pca_sk= scaler.fit_transform(X_pca_sk)\n",
    "\n",
    "pca.fit(X_normalised_pca_sk)\n",
    "\n",
    "# transform the data using the PCA object\n",
    "X_transformed_pca_sk = pca.fit_transform(X_normalised_pca_sk)\n",
    "\n",
    "\n",
    "plot = plt.scatter(X_transformed_pca_sk[:,0], X_transformed_pca_sk[:,1], c=y)\n",
    "\n",
    "plt.legend(handles=plot.legend_elements()[0], labels=list(set(y)))\n",
    "\n",
    "plt.show()"
   ]
  },
  {
   "cell_type": "code",
   "execution_count": null,
   "id": "887853a3-4221-429a-a31e-1aefc0217cbf",
   "metadata": {},
   "outputs": [],
   "source": [
    "X_train, X_test, y_train, y_test = train_test_split(X_pca_sk, y, test_size=0.2, random_state=42)\n",
    "model = LogisticRegression(penalty='none', solver='saga')\n",
    "model.fit(X_train, y_train)\n",
    "accuracy = model.score(X_test, y_test)\n",
    "print('Test accuracy PCA - svd : %.2f%%' % (accuracy * 100))"
   ]
  },
  {
   "cell_type": "markdown",
   "id": "9d82d48e-7df1-4fa0-b8a8-25b89e373b2e",
   "metadata": {},
   "source": [
    "Its not difference between the result of PCA in Scikit-Learn and my implementation. The mathematical concepts are the same."
   ]
  },
  {
   "cell_type": "markdown",
   "id": "2cfadacc-f464-4fc1-b4a8-a91ed8cd80fe",
   "metadata": {},
   "source": [
    "### 9 and 10 are en readme file"
   ]
  },
  {
   "cell_type": "markdown",
   "id": "3aa8cb35-8438-44cb-a781-d258e0328f80",
   "metadata": {},
   "source": [
    "Prueba Modelo"
   ]
  },
  {
   "cell_type": "code",
   "execution_count": 2,
   "id": "9c033c9c-c19d-4a60-8210-3e96270dad25",
   "metadata": {},
   "outputs": [],
   "source": [
    "mnist = fetch_openml('mnist_784', version=1)"
   ]
  },
  {
   "cell_type": "code",
   "execution_count": 7,
   "id": "74010bcd-a56e-4e93-8407-199879d556f7",
   "metadata": {},
   "outputs": [],
   "source": [
    "import matplotlib.pyplot as plt\n",
    "from sklearn.datasets import fetch_openml\n",
    "import numpy as np\n",
    "from PIL import Image\n",
    "from sklearn.metrics import accuracy_score\n",
    "import pickle"
   ]
  },
  {
   "cell_type": "code",
   "execution_count": 4,
   "id": "c5e286c9-da2b-4222-bfc9-26ab0bda1bac",
   "metadata": {},
   "outputs": [],
   "source": [
    "X = mnist.data.astype('float32')\n",
    "y = mnist.target.astype('int64')\n",
    "mask = np.logical_or(y == 0, y == 8)\n",
    "X = X[mask]\n",
    "y = y[mask]"
   ]
  },
  {
   "cell_type": "code",
   "execution_count": 5,
   "id": "17a309b0-2e2f-4dc8-a8b8-6240b8115049",
   "metadata": {
    "tags": []
   },
   "outputs": [],
   "source": [
    "X /= 255.0"
   ]
  },
  {
   "cell_type": "code",
   "execution_count": 93,
   "id": "6ece90e5-eb29-4429-b9e3-849e98b896cc",
   "metadata": {},
   "outputs": [
    {
     "name": "stdout",
     "output_type": "stream",
     "text": [
      "Test accuracy: 99.42%\n"
     ]
    },
    {
     "name": "stderr",
     "output_type": "stream",
     "text": [
      "C:\\Users\\acdzapata\\Anaconda3\\lib\\site-packages\\sklearn\\linear_model\\_sag.py:352: ConvergenceWarning: The max_iter was reached which means the coef_ did not converge\n",
      "  warnings.warn(\n"
     ]
    }
   ],
   "source": [
    "X_traino, X_testo, y_traino, y_testo = train_test_split(X, y, test_size=0.2, random_state=42)\n",
    "\n",
    "modelo = LogisticRegression(penalty='none', solver='saga')\n",
    "modelo.fit(X_traino, y_traino)\n",
    "\n",
    "accuracy = modelo.score(X_testo, y_testo)\n",
    "print('Test accuracy: %.2f%%' % (accuracy * 100))\n",
    "\n",
    "# # Predecir en los datos de prueba y calcular la precisión\n",
    "# y_pred = model.predict(X_test)\n",
    "# accuracy = accuracy_score(y_test, y_pred)\n",
    "# print(\"Precisión del clasificador logístico con PCA: {:.2f}%\".format(accuracy * 100))"
   ]
  },
  {
   "cell_type": "code",
   "execution_count": 101,
   "id": "1d918cb0-2c4f-4efa-bbfb-e774a7a2dd99",
   "metadata": {
    "collapsed": true,
    "jupyter": {
     "outputs_hidden": true
    },
    "tags": []
   },
   "outputs": [
    {
     "data": {
      "text/plain": [
       "array([0.        , 0.        , 0.        , 0.        , 0.        ,\n",
       "       0.        , 0.        , 0.        , 0.        , 0.        ,\n",
       "       0.        , 0.        , 0.        , 0.        , 0.        ,\n",
       "       0.        , 0.        , 0.        , 0.        , 0.        ,\n",
       "       0.        , 0.        , 0.        , 0.        , 0.        ,\n",
       "       0.        , 0.        , 0.        , 0.        , 0.        ,\n",
       "       0.        , 0.        , 0.        , 0.        , 0.        ,\n",
       "       0.        , 0.        , 0.        , 0.        , 0.        ,\n",
       "       0.        , 0.        , 0.        , 0.        , 0.        ,\n",
       "       0.        , 0.        , 0.        , 0.        , 0.        ,\n",
       "       0.        , 0.        , 0.        , 0.        , 0.        ,\n",
       "       0.        , 0.        , 0.        , 0.        , 0.        ,\n",
       "       0.        , 0.        , 0.        , 0.        , 0.        ,\n",
       "       0.        , 0.        , 0.        , 0.        , 0.        ,\n",
       "       0.        , 0.        , 0.        , 0.        , 0.        ,\n",
       "       0.        , 0.        , 0.        , 0.        , 0.        ,\n",
       "       0.        , 0.        , 0.        , 0.        , 0.        ,\n",
       "       0.        , 0.        , 0.        , 0.        , 0.        ,\n",
       "       0.        , 0.        , 0.        , 0.        , 0.        ,\n",
       "       0.        , 0.        , 0.        , 0.        , 0.        ,\n",
       "       0.        , 0.        , 0.        , 0.        , 0.        ,\n",
       "       0.        , 0.        , 0.        , 0.        , 0.        ,\n",
       "       0.        , 0.        , 0.        , 0.        , 0.        ,\n",
       "       0.        , 0.        , 0.        , 0.        , 0.        ,\n",
       "       0.        , 0.        , 0.        , 0.        , 0.        ,\n",
       "       0.        , 0.        , 0.        , 0.        , 0.        ,\n",
       "       0.        , 0.        , 0.        , 0.        , 0.        ,\n",
       "       0.        , 0.        , 0.        , 0.        , 0.        ,\n",
       "       0.        , 0.        , 0.        , 0.        , 0.        ,\n",
       "       0.        , 0.        , 0.        , 0.        , 0.        ,\n",
       "       0.        , 0.        , 0.        , 0.1254902 , 0.38039216,\n",
       "       0.61176471, 0.78823529, 0.99607843, 0.99607843, 0.99607843,\n",
       "       0.90980392, 0.32941176, 0.        , 0.        , 0.        ,\n",
       "       0.        , 0.        , 0.        , 0.        , 0.        ,\n",
       "       0.        , 0.        , 0.        , 0.        , 0.        ,\n",
       "       0.        , 0.        , 0.        , 0.01960784, 0.10980392,\n",
       "       0.7254902 , 0.92156863, 0.99215686, 0.99607843, 0.99215686,\n",
       "       0.99215686, 0.91764706, 0.94509804, 0.99607843, 0.52941176,\n",
       "       0.        , 0.        , 0.        , 0.        , 0.        ,\n",
       "       0.        , 0.        , 0.        , 0.        , 0.        ,\n",
       "       0.        , 0.        , 0.        , 0.        , 0.        ,\n",
       "       0.12156863, 0.76078431, 0.99215686, 0.99215686, 0.99215686,\n",
       "       0.87058824, 0.68627451, 0.50588235, 0.30588235, 0.02352941,\n",
       "       0.64705882, 0.99607843, 0.52941176, 0.        , 0.        ,\n",
       "       0.        , 0.        , 0.        , 0.        , 0.        ,\n",
       "       0.        , 0.        , 0.        , 0.        , 0.        ,\n",
       "       0.        , 0.        , 0.14509804, 0.94509804, 0.99607843,\n",
       "       0.91764706, 0.57254902, 0.25098039, 0.04705882, 0.        ,\n",
       "       0.        , 0.        , 0.55294118, 0.97254902, 0.99607843,\n",
       "       0.4745098 , 0.        , 0.        , 0.        , 0.        ,\n",
       "       0.        , 0.        , 0.        , 0.        , 0.        ,\n",
       "       0.        , 0.        , 0.        , 0.        , 0.        ,\n",
       "       0.15686275, 0.99215686, 0.99607843, 0.23921569, 0.        ,\n",
       "       0.        , 0.        , 0.        , 0.03137255, 0.64705882,\n",
       "       0.97254902, 0.99215686, 0.99607843, 0.15294118, 0.        ,\n",
       "       0.        , 0.        , 0.        , 0.        , 0.        ,\n",
       "       0.        , 0.        , 0.        , 0.        , 0.        ,\n",
       "       0.        , 0.        , 0.        , 0.15686275, 0.99607843,\n",
       "       0.94509804, 0.11764706, 0.        , 0.        , 0.        ,\n",
       "       0.23137255, 0.78823529, 0.99607843, 0.99607843, 0.99607843,\n",
       "       0.29803922, 0.        , 0.        , 0.        , 0.        ,\n",
       "       0.        , 0.        , 0.        , 0.        , 0.        ,\n",
       "       0.        , 0.        , 0.        , 0.        , 0.        ,\n",
       "       0.        , 0.02352941, 0.76862745, 0.96078431, 0.81176471,\n",
       "       0.19607843, 0.07843137, 0.22745098, 0.9372549 , 0.99215686,\n",
       "       0.96862745, 0.88235294, 0.23921569, 0.        , 0.        ,\n",
       "       0.        , 0.        , 0.        , 0.        , 0.        ,\n",
       "       0.        , 0.        , 0.        , 0.        , 0.        ,\n",
       "       0.        , 0.        , 0.        , 0.        , 0.        ,\n",
       "       0.11764706, 0.5372549 , 0.94509804, 0.99215686, 0.99215686,\n",
       "       0.99215686, 0.99607843, 0.96862745, 0.32941176, 0.11764706,\n",
       "       0.        , 0.        , 0.        , 0.        , 0.        ,\n",
       "       0.        , 0.        , 0.        , 0.        , 0.        ,\n",
       "       0.        , 0.        , 0.        , 0.        , 0.        ,\n",
       "       0.        , 0.        , 0.        , 0.        , 0.        ,\n",
       "       0.24313725, 0.82745098, 0.99215686, 0.99215686, 0.99607843,\n",
       "       0.55686275, 0.        , 0.        , 0.        , 0.        ,\n",
       "       0.        , 0.        , 0.        , 0.        , 0.        ,\n",
       "       0.        , 0.        , 0.        , 0.        , 0.        ,\n",
       "       0.        , 0.        , 0.        , 0.        , 0.        ,\n",
       "       0.        , 0.        , 0.        , 0.20784314, 0.92156863,\n",
       "       0.99215686, 0.99215686, 0.99607843, 0.82745098, 0.        ,\n",
       "       0.        , 0.        , 0.        , 0.        , 0.        ,\n",
       "       0.        , 0.        , 0.        , 0.        , 0.        ,\n",
       "       0.        , 0.        , 0.        , 0.        , 0.        ,\n",
       "       0.        , 0.        , 0.        , 0.        , 0.        ,\n",
       "       0.05490196, 0.87843137, 0.99607843, 0.95686275, 0.76470588,\n",
       "       1.        , 0.99607843, 0.60784314, 0.01960784, 0.        ,\n",
       "       0.        , 0.        , 0.        , 0.        , 0.        ,\n",
       "       0.        , 0.        , 0.        , 0.        , 0.        ,\n",
       "       0.        , 0.        , 0.        , 0.        , 0.        ,\n",
       "       0.        , 0.        , 0.03137255, 0.87843137, 0.99215686,\n",
       "       0.96862745, 0.47843137, 0.        , 0.78823529, 0.99215686,\n",
       "       0.99215686, 0.0745098 , 0.        , 0.        , 0.        ,\n",
       "       0.        , 0.        , 0.        , 0.        , 0.        ,\n",
       "       0.        , 0.        , 0.        , 0.        , 0.        ,\n",
       "       0.        , 0.        , 0.        , 0.        , 0.05098039,\n",
       "       0.71764706, 0.99607843, 0.99215686, 0.41960784, 0.        ,\n",
       "       0.        , 0.23137255, 0.99215686, 0.99215686, 0.0745098 ,\n",
       "       0.        , 0.        , 0.        , 0.        , 0.        ,\n",
       "       0.        , 0.        , 0.        , 0.        , 0.        ,\n",
       "       0.        , 0.        , 0.        , 0.        , 0.        ,\n",
       "       0.        , 0.        , 0.15686275, 0.99215686, 0.99607843,\n",
       "       0.71372549, 0.02352941, 0.        , 0.        , 0.23137255,\n",
       "       0.99215686, 0.99215686, 0.43137255, 0.        , 0.        ,\n",
       "       0.        , 0.        , 0.        , 0.        , 0.        ,\n",
       "       0.        , 0.        , 0.        , 0.        , 0.        ,\n",
       "       0.        , 0.        , 0.        , 0.        , 0.        ,\n",
       "       0.30196078, 0.99215686, 0.99607843, 0.23921569, 0.        ,\n",
       "       0.        , 0.        , 0.23137255, 0.99215686, 0.99215686,\n",
       "       0.16078431, 0.        , 0.        , 0.        , 0.        ,\n",
       "       0.        , 0.        , 0.        , 0.        , 0.        ,\n",
       "       0.        , 0.        , 0.        , 0.        , 0.        ,\n",
       "       0.        , 0.        , 0.        , 0.62352941, 0.99607843,\n",
       "       0.76862745, 0.05882353, 0.        , 0.        , 0.        ,\n",
       "       0.70196078, 0.99607843, 0.99607843, 0.0745098 , 0.        ,\n",
       "       0.        , 0.        , 0.        , 0.        , 0.        ,\n",
       "       0.        , 0.        , 0.        , 0.        , 0.        ,\n",
       "       0.        , 0.        , 0.        , 0.        , 0.        ,\n",
       "       0.        , 0.91764706, 0.99215686, 0.57647059, 0.01176471,\n",
       "       0.        , 0.        , 0.20784314, 0.99607843, 0.99215686,\n",
       "       0.96862745, 0.07058824, 0.        , 0.        , 0.        ,\n",
       "       0.        , 0.        , 0.        , 0.        , 0.        ,\n",
       "       0.        , 0.        , 0.        , 0.        , 0.        ,\n",
       "       0.        , 0.        , 0.        , 0.        , 0.65098039,\n",
       "       0.99215686, 0.99607843, 0.41176471, 0.30980392, 0.50980392,\n",
       "       0.92156863, 0.99607843, 0.96862745, 0.32941176, 0.        ,\n",
       "       0.        , 0.        , 0.        , 0.        , 0.        ,\n",
       "       0.        , 0.        , 0.        , 0.        , 0.        ,\n",
       "       0.        , 0.        , 0.        , 0.        , 0.        ,\n",
       "       0.        , 0.        , 0.30588235, 0.89803922, 0.99607843,\n",
       "       0.99215686, 0.99215686, 0.99215686, 0.92941176, 0.51372549,\n",
       "       0.07058824, 0.        , 0.        , 0.        , 0.        ,\n",
       "       0.        , 0.        , 0.        , 0.        , 0.        ,\n",
       "       0.        , 0.        , 0.        , 0.        , 0.        ,\n",
       "       0.        , 0.        , 0.        , 0.        , 0.        ,\n",
       "       0.        , 0.09019608, 0.84705882, 0.84313725, 0.99215686,\n",
       "       0.78431373, 0.22745098, 0.        , 0.        , 0.        ,\n",
       "       0.        , 0.        , 0.        , 0.        , 0.        ,\n",
       "       0.        , 0.        , 0.        , 0.        , 0.        ,\n",
       "       0.        , 0.        , 0.        , 0.        , 0.        ,\n",
       "       0.        , 0.        , 0.        , 0.        , 0.        ,\n",
       "       0.        , 0.        , 0.        , 0.        , 0.        ,\n",
       "       0.        , 0.        , 0.        , 0.        , 0.        ,\n",
       "       0.        , 0.        , 0.        , 0.        , 0.        ,\n",
       "       0.        , 0.        , 0.        , 0.        , 0.        ,\n",
       "       0.        , 0.        , 0.        , 0.        , 0.        ,\n",
       "       0.        , 0.        , 0.        , 0.        , 0.        ,\n",
       "       0.        , 0.        , 0.        , 0.        , 0.        ,\n",
       "       0.        , 0.        , 0.        , 0.        , 0.        ,\n",
       "       0.        , 0.        , 0.        , 0.        , 0.        ,\n",
       "       0.        , 0.        , 0.        , 0.        , 0.        ,\n",
       "       0.        , 0.        , 0.        , 0.        , 0.        ,\n",
       "       0.        , 0.        , 0.        , 0.        , 0.        ,\n",
       "       0.        , 0.        , 0.        , 0.        , 0.        ,\n",
       "       0.        , 0.        , 0.        , 0.        , 0.        ,\n",
       "       0.        , 0.        , 0.        , 0.        ])"
      ]
     },
     "execution_count": 101,
     "metadata": {},
     "output_type": "execute_result"
    }
   ],
   "source": [
    "np.array(X_testo.iloc[:1])[0]"
   ]
  },
  {
   "cell_type": "code",
   "execution_count": 94,
   "id": "9bd69071-862d-4176-b351-f97cb9e39323",
   "metadata": {},
   "outputs": [
    {
     "name": "stdout",
     "output_type": "stream",
     "text": [
      "Predecilo pues: 8\n"
     ]
    },
    {
     "name": "stderr",
     "output_type": "stream",
     "text": [
      "C:\\Users\\acdzapata\\Anaconda3\\lib\\site-packages\\sklearn\\base.py:450: UserWarning: X does not have valid feature names, but LogisticRegression was fitted with feature names\n",
      "  warnings.warn(\n"
     ]
    }
   ],
   "source": [
    "# Load the image and convert it to grayscale\n",
    "img = Image.open('ocho.jpeg').convert('L')\n",
    "img = img.resize((28, 28))\n",
    "img = np.array(img).astype('float32') / 255.0\n",
    "pred = modelo.predict(img.reshape(1, 784))\n",
    "\n",
    "print('Predecilo pues:', pred[0])"
   ]
  },
  {
   "cell_type": "code",
   "execution_count": 23,
   "id": "d4713baf-7ea7-4cab-a699-6a02d8116bbb",
   "metadata": {},
   "outputs": [
    {
     "data": {
      "text/plain": [
       "(1, 784)"
      ]
     },
     "execution_count": 23,
     "metadata": {},
     "output_type": "execute_result"
    }
   ],
   "source": [
    "img.reshape(1, 784).shape"
   ]
  },
  {
   "cell_type": "code",
   "execution_count": 17,
   "id": "45d9b5f5-2cf3-4b61-b5d8-45135cdcf334",
   "metadata": {},
   "outputs": [
    {
     "data": {
      "text/plain": [
       "(1, 784)"
      ]
     },
     "execution_count": 17,
     "metadata": {},
     "output_type": "execute_result"
    }
   ],
   "source": [
    "np.array(X_test.iloc[:1]).shape"
   ]
  },
  {
   "cell_type": "markdown",
   "id": "3de8bfbd-2364-4884-b7da-a537d357ce84",
   "metadata": {},
   "source": [
    "Implementaremos PCA en el Modelo"
   ]
  },
  {
   "cell_type": "code",
   "execution_count": 68,
   "id": "a6d556b8-ea30-488b-a77b-63760773bf7f",
   "metadata": {},
   "outputs": [],
   "source": [
    "# from sklearn.metrics import accuracy_score\n",
    "# Dividir los datos en un conjunto de entrenamiento y un conjunto de prueba\n",
    "# X_train, X_test, y_train, y_test = train_test_split(X, y, test_size=0.2, random_state=0)\n",
    "# Realizar PCA para reducir el número de características\n",
    "pca = PCA(n_components=784) \n",
    "X_train_pca = pca.fit_transform(X_train)\n",
    "X_test_pca = pca.transform(X_test)"
   ]
  },
  {
   "cell_type": "code",
   "execution_count": 69,
   "id": "9814e61b-4252-4e11-9f0c-aa3de220dbbe",
   "metadata": {},
   "outputs": [
    {
     "data": {
      "text/plain": [
       "(2746, 784)"
      ]
     },
     "execution_count": 69,
     "metadata": {},
     "output_type": "execute_result"
    }
   ],
   "source": [
    "X_test_pca.shape"
   ]
  },
  {
   "cell_type": "code",
   "execution_count": 70,
   "id": "3adb5206-0fd9-4f58-865a-870e77d2f675",
   "metadata": {},
   "outputs": [
    {
     "name": "stdout",
     "output_type": "stream",
     "text": [
      "Precisión del clasificador logístico con PCA: 99.38%\n",
      "Test accuracy: 99.38%\n"
     ]
    }
   ],
   "source": [
    "# Entrenar un clasificador logístico en los datos de PCA\n",
    "clfv = LogisticRegression(random_state=0, max_iter=1000)\n",
    "clfv.fit(X_train_pca, y_train)\n",
    "\n",
    "# Predecir en los datos de prueba y calcular la precisión\n",
    "y_pred = clfv.predict(X_test_pca)\n",
    "accuracy = accuracy_score(y_test, y_pred)\n",
    "\n",
    "print(\"Precisión del clasificador logístico con PCA: {:.2f}%\".format(accuracy * 100))\n",
    "\n",
    "accuracy = clfv.score(X_test_pca, y_test)\n",
    "print('Test accuracy: %.2f%%' % (accuracy * 100))"
   ]
  },
  {
   "cell_type": "code",
   "execution_count": 39,
   "id": "6ef2c061-1f7e-4efa-bd1f-34b661130519",
   "metadata": {},
   "outputs": [
    {
     "data": {
      "text/plain": [
       "1"
      ]
     },
     "execution_count": 39,
     "metadata": {},
     "output_type": "execute_result"
    }
   ],
   "source": [
    "min(img.shape)"
   ]
  },
  {
   "cell_type": "code",
   "execution_count": null,
   "id": "6f4a7033-04fb-402e-9b06-bd09e1c3ea08",
   "metadata": {},
   "outputs": [
    {
     "data": {
      "text/plain": [
       "array([[0.]], dtype=float32)"
      ]
     },
     "execution_count": 43,
     "metadata": {},
     "output_type": "execute_result"
    }
   ],
   "source": [
    "img"
   ]
  },
  {
   "cell_type": "code",
   "execution_count": 76,
   "id": "4e1f6770-eb41-4af7-a8f4-3510b79793ab",
   "metadata": {
    "tags": []
   },
   "outputs": [],
   "source": [
    "from sklearn.decomposition import PCA\n",
    "\n",
    "# Cargar la imagen\n",
    "img = Image.open('ocho.jpeg').convert('L')\n",
    "img = img.resize((28, 28))\n",
    "img = np.array(img).astype('float32') / 255.0\n",
    "# img = img.reshape(1, 784)\n",
    "\n",
    "# Crear una instancia de PCA\n",
    "# pca = PCA(n_components=28)\n",
    "\n",
    "# # Aplicar PCA a la imagen\n",
    "# img_reduced = pca.fit_transform(img)\n",
    "\n",
    "# print(img_reduced.shape)\n",
    "# img_reduced=img_reduced.reshape(1, 784)"
   ]
  },
  {
   "cell_type": "code",
   "execution_count": 77,
   "id": "dca85548-b6ba-4fc8-8ced-a37fd1eeda8c",
   "metadata": {},
   "outputs": [
    {
     "name": "stdout",
     "output_type": "stream",
     "text": [
      "Predecilo pues: 0\n"
     ]
    }
   ],
   "source": [
    "pred = clfv.predict(img.reshape(1, 784))\n",
    "\n",
    "print('Predecilo pues:', pred[0])"
   ]
  },
  {
   "cell_type": "code",
   "execution_count": 105,
   "id": "eec73b32-2c40-435c-a8b5-f4008deebc4f",
   "metadata": {},
   "outputs": [
    {
     "name": "stdout",
     "output_type": "stream",
     "text": [
      "Test accuracy: 99.24%\n"
     ]
    },
    {
     "name": "stderr",
     "output_type": "stream",
     "text": [
      "C:\\Users\\acdzapata\\Anaconda3\\lib\\site-packages\\sklearn\\linear_model\\_sag.py:352: ConvergenceWarning: The max_iter was reached which means the coef_ did not converge\n",
      "  warnings.warn(\n"
     ]
    }
   ],
   "source": [
    "from sklearn.decomposition import PCA\n",
    "from sklearn.preprocessing import StandardScaler\n",
    "\n",
    "# Crea un objeto PCA con el número deseado de componentes\n",
    "\n",
    "scaler = StandardScaler()\n",
    "scaler.fit(X)\n",
    "X_normalised = scaler.fit_transform(X)\n",
    "\n",
    "pca = PCA(n_components=784)\n",
    "\n",
    "pca.fit(X_normalised)\n",
    "\n",
    "# Transforma el conjunto de datos X a su representación de menor dimensión\n",
    "X_transformed = pca.transform(X_normalised)\n",
    "\n",
    "X_train, X_test, y_train, y_test = train_test_split(X_transformed, y, test_size=0.2, random_state=42)\n",
    "\n",
    "model = LogisticRegression(penalty='none', solver='saga')\n",
    "model.fit(X_train, y_train)\n",
    "\n",
    "accuracy = model.score(X_test, y_test)\n",
    "print('Test accuracy: %.2f%%' % (accuracy * 100))"
   ]
  },
  {
   "cell_type": "code",
   "execution_count": 121,
   "id": "4db5339d-3f49-49d2-b093-8f60bcbdda9e",
   "metadata": {},
   "outputs": [
    {
     "name": "stdout",
     "output_type": "stream",
     "text": [
      "Predecilo pues: 0\n"
     ]
    }
   ],
   "source": [
    "# Load the image and convert it to grayscale\n",
    "img = Image.open('ocho.png').convert('L')\n",
    "img = img.resize((28, 28))\n",
    "img = np.array(img).astype('float32') / 255.0\n",
    "\n",
    "scaler = StandardScaler()\n",
    "scaler.fit(img)\n",
    "X_normalised = scaler.fit_transform(img)\n",
    "\n",
    "pca = PCA(n_components=28)\n",
    "\n",
    "pca.fit(X_normalised)\n",
    "\n",
    "# Transforma el conjunto de datos X a su representación de menor dimensión\n",
    "X_transformed = pca.transform(X_normalised)\n",
    "\n",
    "pred = model.predict(X_transformed.reshape(1, 784))\n",
    "\n",
    "print('Predecilo pues:', pred[0])"
   ]
  },
  {
   "cell_type": "code",
   "execution_count": 119,
   "id": "df916209-7362-41de-879e-595a57b0b73e",
   "metadata": {
    "tags": []
   },
   "outputs": [
    {
     "data": {
      "text/plain": [
       "0.0029624973871744268"
      ]
     },
     "execution_count": 119,
     "metadata": {},
     "output_type": "execute_result"
    }
   ],
   "source": [
    "np.mean(X_transformed.reshape(1, 784)[0]-X_test[1:2][0])"
   ]
  },
  {
   "cell_type": "code",
   "execution_count": 114,
   "id": "e3f8da6f-bd4e-448b-8397-8a2fb7577257",
   "metadata": {
    "tags": []
   },
   "outputs": [
    {
     "data": {
      "text/plain": [
       "0.024949027296913243"
      ]
     },
     "execution_count": 114,
     "metadata": {},
     "output_type": "execute_result"
    }
   ],
   "source": [
    "np.mean(X_transformed.reshape(1, 784)[0]-X_test[0:1][0])"
   ]
  },
  {
   "cell_type": "code",
   "execution_count": 106,
   "id": "5047e73b-e96b-44fa-8678-85342ce768d1",
   "metadata": {
    "collapsed": true,
    "jupyter": {
     "outputs_hidden": true
    },
    "tags": []
   },
   "outputs": [
    {
     "data": {
      "text/plain": [
       "array([-8.79712021e+00,  8.24865235e-02, -1.38951699e+00, -1.81428912e+00,\n",
       "       -5.28875975e+00,  3.82827553e-01, -1.10863207e+00, -4.56179606e+00,\n",
       "        2.25178792e+00, -1.89570407e+00,  1.04437662e+00,  5.68607049e-01,\n",
       "        1.34993238e+00, -7.70904337e-01, -6.77762870e-01,  1.61494074e+00,\n",
       "        3.36979225e+00, -3.04057027e+00,  1.10841324e-01,  8.85180902e-01,\n",
       "       -2.43258467e+00,  2.52998878e+00,  1.04868921e+00,  2.39957965e-01,\n",
       "       -1.42300306e+00, -7.24805194e-01,  6.09030861e-01,  3.63582090e-01,\n",
       "        1.42682947e-01, -5.99874233e-01, -2.13586795e+00, -4.53425320e-01,\n",
       "        2.76116368e+00,  5.01849261e-01,  8.77176319e-01, -4.98063850e-01,\n",
       "        1.03907014e+00, -2.26990832e+00, -1.21341104e+00, -7.74102690e-01,\n",
       "       -7.53345299e-01,  1.26104924e+00, -1.71985533e-01, -1.50384965e-02,\n",
       "        1.33978850e-01,  5.56907890e-01,  6.58468117e-02, -2.15259482e-01,\n",
       "       -6.36170147e-01,  1.82249607e-01, -5.80386886e-02,  6.75294486e-01,\n",
       "       -4.16901753e-01,  8.39599742e-01, -9.36198724e-01,  8.21611625e-01,\n",
       "       -5.44945832e-01,  2.62503503e-01,  6.15990019e-01,  8.22000935e-01,\n",
       "        1.06746313e+00,  7.20497051e-01, -4.38403819e-01, -1.66512331e+00,\n",
       "       -1.24660400e+00,  3.84850278e-01, -3.35042834e-01, -5.28284769e-01,\n",
       "       -2.74956362e-01, -6.78182819e-01,  3.67213074e-01, -1.14520726e-01,\n",
       "       -1.01274352e-01,  2.91743675e-01,  4.12581180e-01,  7.69456690e-03,\n",
       "       -1.37163813e-01, -5.08007415e-01, -3.31274557e-01,  4.26411115e-01,\n",
       "       -1.26396913e-01, -1.46810689e+00, -2.54827039e-02, -2.80660360e-01,\n",
       "        3.49588501e-01, -4.86691669e-01, -1.04509486e+00,  7.44898197e-01,\n",
       "        4.63945017e-01, -8.63251919e-01,  4.02433761e-01,  6.30784353e-01,\n",
       "        6.52402548e-01, -8.17148592e-02, -4.19198036e-01,  1.07190516e+00,\n",
       "       -4.01996501e-01, -6.06735704e-01, -3.02534238e-01,  3.02046455e-01,\n",
       "        2.95232087e-01, -2.24948487e-01,  1.32381937e+00, -6.47169356e-01,\n",
       "       -2.77093886e-01, -9.22564560e-01,  5.61273357e-01,  9.76006363e-01,\n",
       "       -3.45014421e-01,  3.53200031e-01,  1.87240605e-01,  4.69571611e-01,\n",
       "        1.82611309e-01, -8.99972190e-02,  7.04261068e-01, -1.07786823e+00,\n",
       "       -2.74426155e-01, -3.41718616e-01, -1.02415254e-01, -8.65547011e-01,\n",
       "        2.11699279e-01, -2.60918921e-02,  3.23673046e-01, -5.48038137e-02,\n",
       "        3.45741739e-01, -5.01493892e-01,  2.50730725e-01, -3.02322448e-01,\n",
       "        1.66539695e-02,  1.10867294e-01, -6.45734524e-01, -3.75605970e-01,\n",
       "        2.77752767e-01, -7.10317406e-01, -4.09928810e-01,  1.89520014e-01,\n",
       "        7.17173230e-01, -1.39707766e-01, -6.09696436e-01,  8.88065049e-01,\n",
       "        5.57560225e-01,  3.79895773e-01,  5.97706138e-01, -3.83450657e-01,\n",
       "        1.05891295e+00,  5.15536597e-01,  8.29265518e-01,  6.26695267e-01,\n",
       "        7.96616934e-02, -1.04521637e+00,  5.41327736e-01,  1.08735307e+00,\n",
       "        4.14557474e-01, -5.32046592e-01, -4.77523893e-01, -4.68831881e-04,\n",
       "       -3.36203323e-01,  4.63965747e-01,  3.35807864e-01, -3.60114532e-01,\n",
       "       -1.34104504e-01,  8.70160926e-01, -1.15288688e-01,  1.19516734e-01,\n",
       "       -3.80836567e-01,  1.80445863e-01,  5.96150860e-01,  1.07081198e+00,\n",
       "        1.78092138e-01,  8.07783471e-01, -7.08288326e-01, -3.23105065e-01,\n",
       "       -4.05598481e-01,  1.15102028e-01, -2.29975849e-01, -5.34765572e-01,\n",
       "       -8.17497810e-01,  1.04276239e-01,  1.97738200e-01,  1.08602370e+00,\n",
       "       -1.88903791e-01,  6.05755601e-01,  1.52308690e-01, -6.04527056e-01,\n",
       "        1.93410472e-01,  2.68280271e-01, -6.90020576e-01, -2.29948458e-02,\n",
       "       -1.60570196e-01, -2.18600807e-01,  7.46415218e-02,  4.34275145e-01,\n",
       "       -5.95067054e-02, -1.99714176e-01,  2.98731310e-01,  3.72512019e-01,\n",
       "       -3.70243773e-01,  1.28332418e-01,  7.10987350e-02, -4.67996012e-01,\n",
       "       -2.22892592e-01,  1.84689534e-02,  3.78612412e-01,  3.32510327e-01,\n",
       "       -1.79779146e-01,  3.11955766e-01,  3.72369082e-02, -1.70894476e-01,\n",
       "        3.55470279e-01, -5.31941469e-01, -2.24210438e-01, -2.46367991e-01,\n",
       "       -2.31962227e-01,  2.29053691e-01,  1.36495956e-01,  1.56367922e-02,\n",
       "       -1.84492591e-01,  2.40456500e-01,  7.61041303e-01,  2.16165050e-01,\n",
       "       -3.05266267e-01,  3.35052508e-01, -5.74964888e-01, -1.74754870e-01,\n",
       "        3.60895680e-02,  1.39571558e-01, -9.92882000e-02, -1.36354102e-02,\n",
       "       -1.21102382e-01, -2.26852106e-01, -4.48319330e-01,  6.37340908e-01,\n",
       "       -2.46030843e-01,  4.71834994e-01, -2.59648995e-03,  7.18671925e-02,\n",
       "        5.36046291e-02, -1.00488766e-01, -1.87866087e-01, -3.51559654e-01,\n",
       "        1.47012316e-02, -5.20349114e-01,  1.07084584e-01,  1.19319330e-01,\n",
       "        4.44633462e-01, -2.08449502e-01, -9.71691153e-02,  3.85955821e-01,\n",
       "       -1.64356274e-02,  1.00745131e-02,  4.81096020e-01, -1.70325732e-01,\n",
       "        2.34158295e-01, -1.83999782e-02,  1.86776558e-01, -7.70109650e-02,\n",
       "        1.00929463e-01, -5.05388820e-02,  3.82782173e-01, -8.24115911e-02,\n",
       "       -1.64777703e-01, -2.76454980e-01,  9.03768741e-03,  1.78571673e-01,\n",
       "       -5.77723880e-01, -1.36280701e-02,  2.89957284e-02,  1.70395272e-01,\n",
       "        6.14872235e-02, -1.58385502e-01, -4.32488387e-01, -2.72602049e-01,\n",
       "       -2.19764713e-01, -4.48911924e-03,  3.79290533e-01, -2.68508021e-01,\n",
       "       -6.35867944e-02, -6.06718435e-03, -3.28196398e-01, -1.60622528e-01,\n",
       "        4.35242566e-02, -3.82522235e-01,  1.93224060e-01,  3.91690133e-03,\n",
       "       -4.62254025e-01, -9.64798563e-02, -1.66864617e-01, -1.25304566e-01,\n",
       "        1.65920055e-02, -9.27141644e-03,  1.81465006e-01, -3.46120480e-01,\n",
       "       -9.11276978e-02, -4.98777328e-02, -1.40808266e-01, -1.97996952e-02,\n",
       "       -1.95530251e-01,  6.13960703e-02,  1.82697359e-02,  1.38691551e-01,\n",
       "       -3.60617502e-01, -2.34688101e-01,  2.13500036e-01, -3.41881319e-01,\n",
       "        1.88725603e-01,  7.83062936e-02, -2.43448859e-01, -1.92083876e-01,\n",
       "       -3.14800082e-01,  3.39543424e-01,  2.99244469e-01,  2.41461577e-01,\n",
       "       -3.04915839e-01,  1.20236843e-01, -2.91350844e-01, -8.44071861e-02,\n",
       "       -1.74128170e-01,  1.72645930e-01,  2.33821398e-01,  4.82192396e-01,\n",
       "       -3.89945388e-01,  1.87687261e-03,  2.65985390e-01,  1.82828617e-01,\n",
       "       -3.60503965e-02, -1.18575598e-01, -1.22943005e-01,  9.60574216e-03,\n",
       "       -5.07544333e-01,  4.23780194e-02,  1.96241562e-01, -4.91503676e-02,\n",
       "        1.86509992e-01, -1.96903988e-02, -2.29555384e-01, -6.69461212e-01,\n",
       "       -3.33946911e-01,  2.03061445e-01, -3.02476672e-02,  2.30561214e-01,\n",
       "       -2.54813636e-02,  7.79941558e-02, -4.55741392e-02, -7.52738172e-02,\n",
       "       -5.99726409e-02, -1.05581853e-01,  3.15233393e-01,  2.76656332e-01,\n",
       "       -1.65971294e-01,  1.34141895e-02, -4.81573260e-02, -8.13827599e-02,\n",
       "       -7.42328000e-02, -1.10394979e-02, -2.78248907e-01,  1.56283585e-01,\n",
       "        9.93474522e-02, -2.03665239e-01,  1.73102059e-01,  1.60036302e-01,\n",
       "        8.89987113e-03,  2.39770864e-01, -5.36710421e-01, -3.47055635e-01,\n",
       "        7.14872667e-02,  3.66969406e-01, -3.99781383e-01, -9.59382323e-02,\n",
       "        2.17278908e-01, -3.51759671e-02,  1.47190133e-01, -9.33936482e-02,\n",
       "       -5.74022668e-04,  1.05477636e-01, -2.86377656e-02, -1.40630504e-01,\n",
       "        1.08154556e-01, -2.03139651e-01,  1.35660251e-01, -7.55048969e-02,\n",
       "        1.03153334e-01, -1.55393919e-02, -2.07994737e-01, -3.73983031e-01,\n",
       "       -8.02997902e-02, -9.53783687e-02,  2.28141825e-01, -2.66603339e-02,\n",
       "        5.67337321e-02,  6.47354722e-01, -5.59561953e-03,  3.07519126e-02,\n",
       "       -1.21470584e-01, -3.25377162e-01, -1.63219130e-01, -1.11495939e-01,\n",
       "       -3.18249190e-01, -8.92707513e-02, -2.45891635e-01,  2.57424796e-01,\n",
       "        2.30916750e-01,  1.41048532e-01, -2.94261765e-01,  6.80202353e-02,\n",
       "       -2.21057730e-01,  7.70221791e-02, -1.01031973e-01,  1.28988513e-01,\n",
       "        1.18713839e-01,  2.97870978e-02,  6.57689375e-01, -5.02706658e-02,\n",
       "        2.84289194e-01, -1.89636796e-01, -1.60967804e-01, -1.62243096e-01,\n",
       "        1.21734499e-01, -2.27662862e-01,  6.78285353e-02, -5.90508226e-01,\n",
       "       -2.92983948e-02,  1.31748261e-01, -1.03206807e-01,  4.44204220e-02,\n",
       "        7.35032558e-02,  1.91684499e-01, -2.48146140e-01, -6.11125978e-02,\n",
       "        1.97309672e-01,  3.13105191e-01,  6.09248907e-02,  1.39153003e-01,\n",
       "       -1.83606573e-03, -3.97386751e-01,  1.31387946e-01,  1.03682549e-01,\n",
       "       -1.77446721e-01,  8.70109754e-02,  7.04787274e-02,  2.00284480e-01,\n",
       "       -1.97445225e-01,  7.25808981e-02, -3.18208330e-01,  1.40622871e-01,\n",
       "        2.30385753e-01,  3.24321721e-01,  1.51631382e-01, -2.17022431e-01,\n",
       "        4.16840280e-01, -3.03453168e-02,  1.07361210e-01,  1.11665969e-02,\n",
       "        1.16053668e-01, -5.74054836e-02,  2.34108695e-01, -1.66061830e-01,\n",
       "        1.75409114e-01, -2.12274039e-01,  1.90693192e-02,  8.32940225e-02,\n",
       "        1.04753427e-01, -9.51321408e-02, -3.93896287e-02, -4.34954078e-02,\n",
       "        3.33726891e-01, -7.05209304e-02,  3.73698266e-01,  1.08910385e-01,\n",
       "       -5.80834141e-02, -1.25748695e-01,  1.49168810e-02,  3.17944321e-01,\n",
       "        2.48291413e-01,  2.09780666e-01,  1.12108359e-01,  1.61444317e-01,\n",
       "       -1.26762981e-02, -4.92897699e-02, -1.09509232e-01,  1.20159769e-01,\n",
       "        1.57438763e-01,  2.44360887e-01,  8.60246143e-02,  2.08676670e-01,\n",
       "        8.46788808e-02, -1.86559265e-01,  7.76947733e-02, -3.34949792e-01,\n",
       "       -9.36690813e-02, -1.03857234e-01,  9.72085440e-02, -3.68913290e-01,\n",
       "        5.42365934e-01,  1.25684463e-01,  5.07269757e-02,  8.03986407e-02,\n",
       "        3.96240197e-02,  5.06882797e-02, -3.07553971e-02,  4.58442922e-02,\n",
       "       -2.39016716e-01,  1.98991701e-01, -1.14286649e-01, -2.30027283e-01,\n",
       "        1.53766689e-01, -2.86387776e-02, -4.32105963e-02, -7.43367294e-02,\n",
       "        5.93303144e-03, -1.42182672e-02,  2.86318988e-02, -1.28908658e-01,\n",
       "       -8.09697089e-02,  3.34760418e-02, -1.19104830e-01,  8.19332011e-02,\n",
       "       -1.59266661e-01,  9.76347755e-03, -9.05181057e-02, -3.40928942e-01,\n",
       "        4.42525873e-03,  1.71401269e-01, -3.22133834e-01,  1.51248120e-01,\n",
       "       -1.50725726e-01,  1.01160099e-01, -1.90316557e-01,  1.43000762e-02,\n",
       "       -2.12071906e-01, -1.31872258e-01, -1.32109483e-01,  2.04221744e-01,\n",
       "        4.60876334e-02, -2.36477517e-01,  3.06752259e-01, -1.51285354e-02,\n",
       "        1.05148254e-01,  6.46919445e-02, -1.12081461e-01,  1.73167031e-01,\n",
       "        5.01787619e-01, -2.05944482e-01, -1.28260664e-01,  1.05570480e-01,\n",
       "       -1.56762704e-01,  3.63257367e-02, -1.83457077e-02, -5.51975604e-02,\n",
       "        9.23266135e-02, -2.59288292e-01,  1.92149073e-01, -3.40700642e-02,\n",
       "        2.01417601e-01, -2.45703296e-01,  1.63668130e-01,  9.14654741e-02,\n",
       "        1.35526333e-01,  4.86550430e-03, -3.42932493e-01,  3.41265670e-02,\n",
       "       -1.14468009e-01,  1.09009091e-01,  4.07531976e-02,  8.88914871e-02,\n",
       "       -1.10101568e-01,  1.67101097e-02, -1.78833279e-01, -4.80856794e-02,\n",
       "        2.07824510e-02,  4.13648292e-02, -8.44444261e-02,  8.25363032e-03,\n",
       "       -4.03509468e-02, -5.30507197e-03, -5.74558694e-03, -2.55407424e-02,\n",
       "        2.13327084e-02, -5.76601636e-02, -3.02157216e-02,  2.86078048e-02,\n",
       "       -1.18530194e-02, -2.57628645e-02, -1.17145487e-02, -5.77316295e-03,\n",
       "       -1.74694836e-02, -1.93298646e-02,  2.43959304e-03, -3.11771778e-03,\n",
       "       -2.22502490e-03,  3.92019798e-15,  4.78371893e-15, -1.75584385e-16,\n",
       "       -3.60202086e-15, -4.77275172e-15,  9.60020541e-16, -1.84929807e-15,\n",
       "       -4.54976401e-16,  1.22660294e-15, -8.72042601e-17, -1.32341313e-15,\n",
       "       -1.79530323e-15,  7.55839552e-16, -3.97645394e-17,  6.19467765e-16,\n",
       "        5.61138210e-16,  9.00810916e-17,  1.03616645e-15,  1.04108342e-16,\n",
       "       -8.01189960e-16, -1.33821035e-15,  4.92726572e-16, -2.94315287e-16,\n",
       "       -3.78998295e-16,  5.61610699e-16, -1.49788554e-15, -1.05294169e-15,\n",
       "       -4.84838050e-16,  1.06733689e-15,  1.24861031e-15, -2.51868931e-16,\n",
       "       -2.48730895e-16, -9.59495445e-17,  1.13739857e-15, -4.08565447e-17,\n",
       "        8.33361367e-16, -9.83324173e-16,  1.38472580e-15,  1.70189502e-16,\n",
       "        9.34622924e-17,  2.45751796e-16,  5.49936471e-17, -2.70146843e-16,\n",
       "       -4.40337086e-16, -7.62710696e-16,  2.46904298e-16,  7.95340497e-16,\n",
       "        2.64961044e-16, -2.17173773e-16,  3.12527457e-17, -6.73957738e-17,\n",
       "        4.08696698e-16, -6.15811381e-16,  5.12321292e-16, -2.18126484e-16,\n",
       "        7.83347760e-16,  7.55424782e-16, -2.74966035e-16,  3.45933776e-16,\n",
       "        2.15957737e-16, -7.87835443e-16, -4.81058979e-16, -1.48524948e-15,\n",
       "       -1.69835911e-16, -1.12821082e-15, -9.92441633e-16,  1.23494346e-16,\n",
       "        1.09349170e-15,  7.95212030e-17,  1.38711599e-16, -9.07779525e-16,\n",
       "        4.13650051e-16,  2.01689820e-16,  8.67830196e-17, -9.75022268e-16,\n",
       "        5.34107268e-16, -2.34341737e-16, -4.61982163e-16, -1.33373115e-16,\n",
       "        6.03791086e-16, -3.80714116e-17, -1.14969828e-15,  6.10326841e-16,\n",
       "        5.87842615e-18, -5.77485252e-16, -2.68452064e-16, -1.94224926e-16,\n",
       "        1.32139787e-15,  6.35761960e-16, -7.29029693e-17,  3.37070131e-16,\n",
       "        8.10190777e-17,  7.71552984e-17, -4.88447251e-16,  7.03793913e-16,\n",
       "        2.20141945e-16, -1.11402374e-16, -1.00483512e-15,  3.70807404e-16,\n",
       "        5.86387915e-16,  6.96701107e-17,  5.95102760e-16, -4.09741883e-16,\n",
       "        1.94668986e-16, -4.95685926e-16, -9.73459948e-17,  1.33121941e-15,\n",
       "       -1.05026033e-17, -5.39734700e-16,  2.36420789e-16, -1.70816593e-16,\n",
       "       -1.88334643e-16, -2.60745079e-16,  5.34043828e-16,  3.78617344e-16,\n",
       "       -4.35019198e-16, -2.78651073e-16,  1.27891927e-16,  2.04739822e-16,\n",
       "       -2.21543890e-16,  2.38675280e-16,  1.03752650e-16,  4.01456285e-17,\n",
       "        3.64102376e-16,  5.70584735e-16,  4.80782372e-16, -1.39335910e-16,\n",
       "        5.68712797e-16,  3.29182804e-16, -1.59149770e-16,  2.28935667e-17,\n",
       "       -1.99987293e-16,  1.52665774e-16, -1.53887942e-26, -5.37839842e-30,\n",
       "        3.33815097e-30,  1.66334313e-30,  2.43403922e-30,  6.60246426e-31,\n",
       "        1.25345735e-31,  2.50500109e-31, -9.50447261e-31,  4.38027844e-31,\n",
       "       -1.37582394e-30, -1.57051781e-30,  2.55371762e-31, -2.41394392e-32,\n",
       "        1.51277616e-31, -1.39271636e-30, -1.52975589e-30, -2.12785657e-31,\n",
       "        1.49821217e-31,  9.15798884e-32, -2.20064352e-32, -8.34155431e-32,\n",
       "       -2.30691885e-31, -1.54163491e-31, -4.11787151e-32,  3.36887966e-31,\n",
       "        1.13936901e-31,  0.00000000e+00,  0.00000000e+00,  0.00000000e+00,\n",
       "        0.00000000e+00,  0.00000000e+00,  0.00000000e+00,  0.00000000e+00,\n",
       "        0.00000000e+00,  0.00000000e+00,  0.00000000e+00,  0.00000000e+00,\n",
       "        0.00000000e+00,  0.00000000e+00,  0.00000000e+00,  0.00000000e+00,\n",
       "        0.00000000e+00,  0.00000000e+00,  0.00000000e+00,  0.00000000e+00,\n",
       "        0.00000000e+00,  0.00000000e+00,  0.00000000e+00,  0.00000000e+00,\n",
       "        0.00000000e+00,  0.00000000e+00,  0.00000000e+00,  0.00000000e+00,\n",
       "        0.00000000e+00,  0.00000000e+00,  0.00000000e+00,  0.00000000e+00,\n",
       "        0.00000000e+00,  1.63093847e-15, -1.21972695e-16,  1.91092991e-16])"
      ]
     },
     "execution_count": 106,
     "metadata": {},
     "output_type": "execute_result"
    }
   ],
   "source": [
    "X_test[0:1][0]"
   ]
  },
  {
   "cell_type": "code",
   "execution_count": 92,
   "id": "d0203e2d-972f-4df5-95c6-ff0acd962310",
   "metadata": {
    "collapsed": true,
    "jupyter": {
     "outputs_hidden": true
    },
    "tags": []
   },
   "outputs": [
    {
     "data": {
      "text/plain": [
       "array([0.02352941, 0.02352941, 0.02352941, 0.02352941, 0.02352941,\n",
       "       0.02352941, 0.02352941, 0.02352941, 0.02352941, 0.02352941,\n",
       "       0.02352941, 0.02352941, 0.02352941, 0.02352941, 0.02352941,\n",
       "       0.02352941, 0.02352941, 0.02352941, 0.02352941, 0.02352941,\n",
       "       0.02352941, 0.02745098, 0.02745098, 0.02352941, 0.02352941,\n",
       "       0.02352941, 0.02745098, 0.02745098, 0.02352941, 0.02352941,\n",
       "       0.02352941, 0.02352941, 0.02352941, 0.02352941, 0.02352941,\n",
       "       0.02352941, 0.02352941, 0.02352941, 0.02352941, 0.02352941,\n",
       "       0.02352941, 0.02352941, 0.02352941, 0.02352941, 0.02352941,\n",
       "       0.02352941, 0.02352941, 0.02352941, 0.02352941, 0.02352941,\n",
       "       0.02352941, 0.02745098, 0.02745098, 0.02745098, 0.02745098,\n",
       "       0.02745098, 0.02352941, 0.02352941, 0.01960784, 0.02352941,\n",
       "       0.02352941, 0.02352941, 0.02352941, 0.01960784, 0.01960784,\n",
       "       0.02352941, 0.02352941, 0.02352941, 0.02352941, 0.02352941,\n",
       "       0.02352941, 0.02352941, 0.02352941, 0.02352941, 0.02352941,\n",
       "       0.02352941, 0.02352941, 0.02352941, 0.02352941, 0.02352941,\n",
       "       0.02352941, 0.02352941, 0.02352941, 0.02745098, 0.02352941,\n",
       "       0.02352941, 0.02352941, 0.01960784, 0.01960784, 0.02352941,\n",
       "       0.01960784, 0.02352941, 0.02352941, 0.02352941, 0.02352941,\n",
       "       0.02352941, 0.02352941, 0.02352941, 0.02352941, 0.02352941,\n",
       "       0.02352941, 0.02352941, 0.02352941, 0.02352941, 0.02352941,\n",
       "       0.02352941, 0.02352941, 0.02352941, 0.02352941, 0.02352941,\n",
       "       0.02352941, 0.02745098, 0.02352941, 0.02352941, 0.02352941,\n",
       "       0.01960784, 0.02352941, 0.02352941, 0.02352941, 0.02352941,\n",
       "       0.01960784, 0.02352941, 0.02352941, 0.02352941, 0.02352941,\n",
       "       0.02352941, 0.02352941, 0.02352941, 0.02352941, 0.01960784,\n",
       "       0.02352941, 0.02352941, 0.02352941, 0.02352941, 0.02352941,\n",
       "       0.02352941, 0.02352941, 0.02352941, 0.02352941, 0.02352941,\n",
       "       0.02352941, 0.02352941, 0.01960784, 0.01960784, 0.01960784,\n",
       "       0.01960784, 0.02352941, 0.01960784, 0.01960784, 0.01960784,\n",
       "       0.01960784, 0.01176471, 0.00784314, 0.01568628, 0.01960784,\n",
       "       0.01960784, 0.01960784, 0.01960784, 0.01960784, 0.02352941,\n",
       "       0.02352941, 0.02352941, 0.02352941, 0.02352941, 0.02352941,\n",
       "       0.02352941, 0.02352941, 0.02352941, 0.02352941, 0.02352941,\n",
       "       0.01960784, 0.01960784, 0.02352941, 0.01960784, 0.01960784,\n",
       "       0.01960784, 0.01568628, 0.00392157, 0.04705882, 0.12156863,\n",
       "       0.16078432, 0.08627451, 0.01176471, 0.01176471, 0.01960784,\n",
       "       0.01960784, 0.01960784, 0.01960784, 0.01960784, 0.01960784,\n",
       "       0.01960784, 0.01960784, 0.01960784, 0.01960784, 0.02352941,\n",
       "       0.02352941, 0.02352941, 0.01960784, 0.02352941, 0.01960784,\n",
       "       0.01960784, 0.01960784, 0.01960784, 0.00392157, 0.05882353,\n",
       "       0.23921569, 0.27058825, 0.20392157, 0.1764706 , 0.24313726,\n",
       "       0.3019608 , 0.07450981, 0.01568628, 0.01960784, 0.01960784,\n",
       "       0.01960784, 0.01960784, 0.01960784, 0.01960784, 0.01960784,\n",
       "       0.01960784, 0.01960784, 0.02352941, 0.01960784, 0.02352941,\n",
       "       0.02352941, 0.01960784, 0.01960784, 0.01960784, 0.01960784,\n",
       "       0.00784314, 0.1254902 , 0.34117648, 0.1254902 , 0.01176471,\n",
       "       0.00392157, 0.00392157, 0.        , 0.15686275, 0.35686275,\n",
       "       0.00392157, 0.01960784, 0.01960784, 0.01960784, 0.01960784,\n",
       "       0.01960784, 0.01960784, 0.01960784, 0.01960784, 0.01960784,\n",
       "       0.01960784, 0.01960784, 0.02352941, 0.01960784, 0.01960784,\n",
       "       0.01960784, 0.01960784, 0.01568628, 0.04313726, 0.3882353 ,\n",
       "       0.05490196, 0.        , 0.01176471, 0.01176471, 0.01176471,\n",
       "       0.        , 0.10980392, 0.34901962, 0.00392157, 0.01960784,\n",
       "       0.01960784, 0.01960784, 0.01960784, 0.01960784, 0.01960784,\n",
       "       0.01960784, 0.01960784, 0.01960784, 0.01960784, 0.01960784,\n",
       "       0.02352941, 0.01960784, 0.02352941, 0.01960784, 0.01960784,\n",
       "       0.01176471, 0.09411765, 0.4117647 , 0.07450981, 0.07450981,\n",
       "       0.08627451, 0.09803922, 0.10196079, 0.06666667, 0.34901962,\n",
       "       0.12941177, 0.        , 0.01960784, 0.01960784, 0.01960784,\n",
       "       0.01960784, 0.01960784, 0.01960784, 0.01960784, 0.01960784,\n",
       "       0.01960784, 0.01960784, 0.01960784, 0.02352941, 0.01960784,\n",
       "       0.02352941, 0.01960784, 0.01960784, 0.01960784, 0.01960784,\n",
       "       0.14509805, 0.21960784, 0.21960784, 0.21176471, 0.1882353 ,\n",
       "       0.1882353 , 0.42745098, 0.39607844, 0.25882354, 0.07058824,\n",
       "       0.00784314, 0.01960784, 0.01960784, 0.01960784, 0.01960784,\n",
       "       0.01960784, 0.01960784, 0.01960784, 0.01960784, 0.01960784,\n",
       "       0.01960784, 0.01960784, 0.01960784, 0.01960784, 0.01960784,\n",
       "       0.01960784, 0.01960784, 0.01960784, 0.00392157, 0.00392157,\n",
       "       0.00392157, 0.        , 0.04313726, 0.2901961 , 0.19215687,\n",
       "       0.        , 0.11764706, 0.37254903, 0.09803922, 0.01176471,\n",
       "       0.01960784, 0.01960784, 0.01960784, 0.01960784, 0.01960784,\n",
       "       0.01960784, 0.01960784, 0.01960784, 0.01960784, 0.01960784,\n",
       "       0.01960784, 0.01960784, 0.01960784, 0.01960784, 0.01960784,\n",
       "       0.01960784, 0.01960784, 0.01960784, 0.        , 0.16078432,\n",
       "       0.32156864, 0.11372549, 0.        , 0.01960784, 0.        ,\n",
       "       0.11764706, 0.3764706 , 0.01176471, 0.01960784, 0.01960784,\n",
       "       0.01960784, 0.01960784, 0.01960784, 0.01960784, 0.01960784,\n",
       "       0.01960784, 0.01960784, 0.01960784, 0.01960784, 0.01960784,\n",
       "       0.01960784, 0.01960784, 0.01960784, 0.01960784, 0.01960784,\n",
       "       0.00784314, 0.23529412, 0.28235295, 0.02745098, 0.00784314,\n",
       "       0.01960784, 0.01960784, 0.01568628, 0.02745098, 0.4117647 ,\n",
       "       0.03137255, 0.01568628, 0.01960784, 0.01960784, 0.01960784,\n",
       "       0.01960784, 0.01960784, 0.01960784, 0.01960784, 0.01960784,\n",
       "       0.01960784, 0.01960784, 0.01960784, 0.01960784, 0.01960784,\n",
       "       0.01960784, 0.01960784, 0.01176471, 0.10588235, 0.36862746,\n",
       "       0.        , 0.01568628, 0.01960784, 0.01960784, 0.01960784,\n",
       "       0.        , 0.15294118, 0.32156864, 0.00392157, 0.01960784,\n",
       "       0.01960784, 0.01960784, 0.01568628, 0.01960784, 0.01960784,\n",
       "       0.01568628, 0.01960784, 0.01568628, 0.01960784, 0.01960784,\n",
       "       0.01960784, 0.01960784, 0.01960784, 0.01960784, 0.01960784,\n",
       "       0.01568628, 0.05882353, 0.3647059 , 0.09019608, 0.        ,\n",
       "       0.00392157, 0.00392157, 0.        , 0.07450981, 0.36862746,\n",
       "       0.07450981, 0.01176471, 0.01568628, 0.01568628, 0.01568628,\n",
       "       0.01568628, 0.01568628, 0.01960784, 0.01568628, 0.01568628,\n",
       "       0.01568628, 0.01960784, 0.01960784, 0.01960784, 0.01960784,\n",
       "       0.01960784, 0.01960784, 0.01960784, 0.01960784, 0.00784314,\n",
       "       0.07843138, 0.28235295, 0.23529412, 0.15294118, 0.13725491,\n",
       "       0.20784314, 0.3019608 , 0.09411765, 0.00392157, 0.01960784,\n",
       "       0.01568628, 0.01568628, 0.01568628, 0.01568628, 0.01568628,\n",
       "       0.01960784, 0.01568628, 0.01568628, 0.01568628, 0.01960784,\n",
       "       0.01960784, 0.01960784, 0.01960784, 0.01960784, 0.01960784,\n",
       "       0.01960784, 0.01960784, 0.01960784, 0.01176471, 0.00784314,\n",
       "       0.07843138, 0.13725491, 0.14509805, 0.10196079, 0.01568628,\n",
       "       0.00784314, 0.01960784, 0.01568628, 0.01568628, 0.01568628,\n",
       "       0.01960784, 0.01960784, 0.01960784, 0.01960784, 0.01960784,\n",
       "       0.01568628, 0.01960784, 0.01960784, 0.01960784, 0.01960784,\n",
       "       0.01960784, 0.01960784, 0.01960784, 0.01960784, 0.01960784,\n",
       "       0.01960784, 0.01960784, 0.01960784, 0.01176471, 0.00784314,\n",
       "       0.00392157, 0.01176471, 0.01960784, 0.01568628, 0.01568628,\n",
       "       0.01568628, 0.01568628, 0.01960784, 0.01960784, 0.01960784,\n",
       "       0.01960784, 0.01960784, 0.01960784, 0.01960784, 0.01960784,\n",
       "       0.01960784, 0.01960784, 0.01960784, 0.01960784, 0.01960784,\n",
       "       0.01960784, 0.01960784, 0.01960784, 0.01960784, 0.01960784,\n",
       "       0.01960784, 0.01960784, 0.01960784, 0.01568628, 0.01960784,\n",
       "       0.01960784, 0.01960784, 0.01960784, 0.01960784, 0.01960784,\n",
       "       0.01960784, 0.01960784, 0.01960784, 0.01960784, 0.01960784,\n",
       "       0.01960784, 0.01960784, 0.01960784, 0.01960784, 0.01960784,\n",
       "       0.01960784, 0.01960784, 0.01960784, 0.01960784, 0.01960784,\n",
       "       0.01960784, 0.01960784, 0.01960784, 0.01960784, 0.01960784,\n",
       "       0.01960784, 0.01960784, 0.01960784, 0.01960784, 0.01960784,\n",
       "       0.01960784, 0.01960784, 0.01960784, 0.01960784, 0.01960784,\n",
       "       0.01960784, 0.01960784, 0.01960784, 0.01960784, 0.01960784,\n",
       "       0.01960784, 0.01960784, 0.01960784, 0.01960784, 0.01960784,\n",
       "       0.01960784, 0.01960784, 0.01960784, 0.01960784, 0.01960784,\n",
       "       0.01960784, 0.01960784, 0.01960784, 0.01960784, 0.01960784,\n",
       "       0.01960784, 0.01960784, 0.01960784, 0.01960784, 0.01960784,\n",
       "       0.01960784, 0.01960784, 0.01960784, 0.01960784, 0.01960784,\n",
       "       0.01960784, 0.01960784, 0.01960784, 0.01960784, 0.02352941,\n",
       "       0.02352941, 0.02352941, 0.01960784, 0.02352941, 0.01960784,\n",
       "       0.01960784, 0.01960784, 0.01960784, 0.01960784, 0.01960784,\n",
       "       0.01960784, 0.01960784, 0.01960784, 0.01960784, 0.01960784,\n",
       "       0.01960784, 0.01960784, 0.01960784, 0.01960784, 0.01960784,\n",
       "       0.01960784, 0.01960784, 0.01960784, 0.01960784, 0.01960784,\n",
       "       0.01960784, 0.01960784, 0.02352941, 0.02352941, 0.01960784,\n",
       "       0.01960784, 0.02352941, 0.02352941, 0.01960784, 0.01960784,\n",
       "       0.01960784, 0.01960784, 0.01960784, 0.01960784, 0.01960784,\n",
       "       0.01960784, 0.01960784, 0.01960784, 0.01960784, 0.01960784,\n",
       "       0.01960784, 0.01960784, 0.01960784, 0.01960784, 0.01960784,\n",
       "       0.01960784, 0.01960784, 0.01960784, 0.01960784, 0.01960784,\n",
       "       0.02352941, 0.02352941, 0.02352941, 0.02352941, 0.02352941,\n",
       "       0.02352941, 0.02352941, 0.01960784, 0.01960784, 0.02352941,\n",
       "       0.02352941, 0.01960784, 0.01960784, 0.02352941, 0.02352941,\n",
       "       0.01960784, 0.01960784, 0.01960784, 0.02352941, 0.01960784,\n",
       "       0.02352941, 0.01960784, 0.01960784, 0.01960784, 0.01960784,\n",
       "       0.01960784, 0.01960784, 0.01960784, 0.02352941, 0.02352941,\n",
       "       0.02352941, 0.02352941, 0.02352941, 0.02352941, 0.02352941,\n",
       "       0.02352941, 0.01960784, 0.02352941, 0.02352941, 0.02352941,\n",
       "       0.01960784, 0.02352941, 0.02352941, 0.02352941, 0.02352941,\n",
       "       0.01960784, 0.02352941, 0.01960784, 0.01960784, 0.02352941,\n",
       "       0.01960784, 0.02352941, 0.02352941, 0.02352941, 0.01960784,\n",
       "       0.02352941, 0.02352941, 0.02352941, 0.02352941, 0.02352941,\n",
       "       0.02352941, 0.02352941, 0.02352941, 0.02352941, 0.02352941,\n",
       "       0.02352941, 0.02352941, 0.02352941, 0.02352941, 0.02352941,\n",
       "       0.02352941, 0.02352941, 0.02352941, 0.02352941, 0.02352941,\n",
       "       0.02352941, 0.02352941, 0.02352941, 0.02352941, 0.01960784,\n",
       "       0.02352941, 0.02352941, 0.02352941, 0.02352941], dtype=float32)"
      ]
     },
     "execution_count": 92,
     "metadata": {},
     "output_type": "execute_result"
    }
   ],
   "source": [
    "img.reshape(1, 784)[0]"
   ]
  },
  {
   "cell_type": "code",
   "execution_count": 107,
   "id": "a66c3612-02b1-41f2-b710-3eceff738fd3",
   "metadata": {},
   "outputs": [
    {
     "name": "stdout",
     "output_type": "stream",
     "text": [
      "Predecilo pues: 0\n"
     ]
    }
   ],
   "source": [
    "# Load the image and convert it to grayscale\n",
    "img = Image.open('ocho.jpeg').convert('L')\n",
    "img = img.resize((28, 28))\n",
    "img = np.array(img).astype('float32') / 255.0\n",
    "pred = model.predict(img.reshape(1, 784))\n",
    "\n",
    "print('Predecilo pues:', pred[0])"
   ]
  },
  {
   "cell_type": "code",
   "execution_count": 49,
   "id": "fce6f0b7-ff06-443a-a5b4-2385a1dbf218",
   "metadata": {},
   "outputs": [
    {
     "data": {
      "text/plain": [
       "(1, 50)"
      ]
     },
     "execution_count": 49,
     "metadata": {},
     "output_type": "execute_result"
    }
   ],
   "source": [
    "import umap\n",
    "\n",
    "# Crear objeto UMAP\n",
    "umap_reducer = umap.UMAP(n_components=50, random_state=42)\n",
    "\n",
    "# Reducir la imagen\n",
    "img_reduced = umap_reducer.fit_transform(img)\n",
    "\n",
    "# La imagen ahora tiene tamaño (1, 50)\n",
    "\n",
    "img_reduced.shape"
   ]
  },
  {
   "cell_type": "code",
   "execution_count": 51,
   "id": "fb82278d-0718-4cc2-bc06-d055009b64e0",
   "metadata": {},
   "outputs": [
    {
     "data": {
      "text/plain": [
       "array([[0., 0., 0., 0., 0., 0., 0., 0., 0., 0., 0., 0., 0., 0., 0., 0.,\n",
       "        0., 0., 0., 0., 0., 0., 0., 0., 0., 0., 0., 0., 0., 0., 0., 0.,\n",
       "        0., 0., 0., 0., 0., 0., 0., 0., 0., 0., 0., 0., 0., 0., 0., 0.,\n",
       "        0., 0.]])"
      ]
     },
     "execution_count": 51,
     "metadata": {},
     "output_type": "execute_result"
    }
   ],
   "source": [
    "img_reduced"
   ]
  },
  {
   "cell_type": "code",
   "execution_count": 50,
   "id": "82b0cbef-d045-4f9c-925e-260933d5d115",
   "metadata": {},
   "outputs": [
    {
     "name": "stdout",
     "output_type": "stream",
     "text": [
      "Predecilo pues: 0\n"
     ]
    }
   ],
   "source": [
    "pred = clfv.predict(img_reduced)\n",
    "\n",
    "print('Predecilo pues:', pred[0])"
   ]
  },
  {
   "cell_type": "code",
   "execution_count": null,
   "id": "c7f7bd50-55f5-46e9-a8b7-070768429a77",
   "metadata": {},
   "outputs": [],
   "source": [
    "img = Image.open('ocho.jpeg').convert('L')\n",
    "img = img.resize((28, 28))\n",
    "img = np.array(img).astype('float32') / 255.0\n",
    "img=img.reshape(1, 784).reshape(-1, 1)\n",
    "img.shape"
   ]
  },
  {
   "cell_type": "code",
   "execution_count": null,
   "id": "a778c3b1-3199-4406-8a08-218fde6540bc",
   "metadata": {},
   "outputs": [],
   "source": [
    "img_reshaped = img.reshape(-1, 1)\n",
    "img_reshaped.shape"
   ]
  },
  {
   "cell_type": "code",
   "execution_count": null,
   "id": "d6db5182-b987-4fee-8ca4-099dfc251463",
   "metadata": {
    "tags": []
   },
   "outputs": [],
   "source": [
    "# Load the image and convert it to grayscale\n",
    "img = Image.open('ocho.jpeg').convert('L')\n",
    "img = img.resize((28, 28))\n",
    "img = np.array(img).astype('float32') / 255.0\n",
    "img=img.reshape(1, 784).reshape(1, -1)\n",
    "\n",
    "pca = PCA(n_components=50)\n",
    "\n",
    "test = pca.fit_transform(img)\n",
    "\n",
    "pred = clfv.predict(test)\n",
    "\n",
    "print('Predecilo pues:', pred[0])"
   ]
  },
  {
   "cell_type": "code",
   "execution_count": null,
   "id": "f91da8e0-e0d4-4ab0-8a9e-a665e7debacb",
   "metadata": {},
   "outputs": [],
   "source": [
    "img_reshaped.shape"
   ]
  },
  {
   "cell_type": "code",
   "execution_count": null,
   "id": "b5af6427-7ffe-4f6f-b536-827214cf8aac",
   "metadata": {
    "tags": []
   },
   "outputs": [],
   "source": [
    "import numpy as np\n",
    "from sklearn.decomposition import PCA\n",
    "from sklearn.cluster import KMeans\n",
    "\n",
    "# assuming img is a 1D array with shape (784,)\n",
    "img_reshaped = img.reshape(1, -1)\n",
    "\n",
    "# apply PCA to reduce the dimensionality of img\n",
    "pca = PCA(n_components=50)\n",
    "img_transformed = pca.fit_transform(img_reshaped)\n",
    "\n",
    "# use KMeans to cluster the transformed image\n",
    "clfv = KMeans(n_clusters=10, random_state=42)\n",
    "clfv.fit(img_transformed)\n",
    "pred = clfv.predict(img_transformed)\n"
   ]
  },
  {
   "cell_type": "markdown",
   "id": "56d296d8-da06-4742-8c84-bffebf817b05",
   "metadata": {},
   "source": [
    "Ahora con myPCA"
   ]
  },
  {
   "cell_type": "code",
   "execution_count": null,
   "id": "77a4a0c9-1753-4baf-8fcc-3cf6499ce956",
   "metadata": {},
   "outputs": [],
   "source": [
    "from sklearn.metrics import accuracy_score\n",
    "# Dividir los datos en un conjunto de entrenamiento y un conjunto de prueba\n",
    "X_train, X_test, y_train, y_test = train_test_split(X, y, test_size=0.2, random_state=0)\n",
    "# Realizar PCA para reducir el número de características\n",
    "# pca = PCA(n_components=50) # Reducir a 50 características\n",
    "# X_train_pca2 = pca.fit_transform(X_train)\n",
    "# X_test_pca2 = pca.transform(X_test)\n",
    "\n",
    "from model import myPCA\n",
    "mypca = myPCA(n_components=50, method=\"svd\")\n",
    "# fit the data\n",
    "mypca.fit(X_train)\n",
    "mypca.fit(X_test)\n",
    "\n",
    "X_train_mypca = mypca.fit_transform(X_train)\n",
    "X_test_mypca =mypca.fit_transform(X_test)\n"
   ]
  },
  {
   "cell_type": "code",
   "execution_count": null,
   "id": "4abc1fa6-aa71-49e2-a9df-7e58daa9386b",
   "metadata": {},
   "outputs": [],
   "source": [
    "# Entrenar un clasificador logístico en los datos de PCA\n",
    "clf = LogisticRegression(random_state=0, max_iter=1000)\n",
    "clf.fit(X_train_mypca, y_train)\n",
    "\n",
    "# Predecir en los datos de prueba y calcular la precisión\n",
    "y_pred = clf.predict(X_test_mypca)\n",
    "accuracy = accuracy_score(y_test, y_pred)\n",
    "\n",
    "print(\"Precisión del clasificador logístico con PCA: {:.2f}%\".format(accuracy * 100))\n",
    "\n",
    "accuracy = clf.score(X_test_mypca, y_test)\n",
    "print('Test accuracy: %.2f%%' % (accuracy * 100))"
   ]
  },
  {
   "cell_type": "code",
   "execution_count": null,
   "id": "1e6d8554-8365-4274-9144-ae53da6818c2",
   "metadata": {},
   "outputs": [],
   "source": [
    "y_pred[:100]"
   ]
  },
  {
   "cell_type": "code",
   "execution_count": null,
   "id": "0aa8edf9-37bf-4548-b089-e3bfe76bf653",
   "metadata": {},
   "outputs": [],
   "source": [
    "np.array(y_test)[:100]"
   ]
  },
  {
   "cell_type": "code",
   "execution_count": null,
   "id": "8496542d-4223-4588-b5de-23ca4bba666b",
   "metadata": {},
   "outputs": [],
   "source": [
    "# Load the image and convert it to grayscale\n",
    "img = Image.open('ocho.jpeg').convert('L')\n",
    "img = img.resize((28, 28))\n",
    "img = np.array(img).astype('float32') / 255.0\n",
    "img=img.reshape(1, 784)\n",
    "\n",
    "from model import myPCA\n",
    "myPCA = myPCA(n_components=50,method=\"svd\")\n",
    "\n",
    "# fit the data\n",
    "myPCA.fit(img)\n",
    "# transform the data using the PCA object\n",
    "test = myPCA.fit_transform(img)\n",
    "\n",
    "pred = clf.predict(test)\n",
    "\n",
    "print('Predecilo pues:', pred[0])"
   ]
  },
  {
   "cell_type": "code",
   "execution_count": null,
   "id": "2355a145-48a3-43df-895c-f2fa923f726a",
   "metadata": {},
   "outputs": [],
   "source": [
    "img"
   ]
  },
  {
   "cell_type": "code",
   "execution_count": null,
   "id": "eaa2353e-ea41-427c-8065-23a107411c63",
   "metadata": {},
   "outputs": [],
   "source": [
    "# Load the image and convert it to grayscale\n",
    "img = Image.open('ocho.jpeg').convert('L')\n",
    "img = img.resize((28, 28))\n",
    "img = np.array(img).astype('float32') / 255.0\n",
    "pred = model.predict(img.reshape(1, 784))\n",
    "\n",
    "print('Predecilo pues:', pred[0])"
   ]
  },
  {
   "cell_type": "code",
   "execution_count": null,
   "id": "dda251b9-0f95-4657-95c5-1f20a3294d22",
   "metadata": {},
   "outputs": [],
   "source": [
    "import pickle\n",
    "\n",
    "# guardar modelo en archivo\n",
    "with open('modelo.pkl', 'wb') as archivo:\n",
    "    pickle.dump(model, archivo)"
   ]
  },
  {
   "cell_type": "code",
   "execution_count": null,
   "id": "8d7e5303-1d71-4625-83f2-91ae778ece7d",
   "metadata": {},
   "outputs": [],
   "source": [
    "with open('modelo.pkl', 'rb') as archivo:\n",
    "    model = pickle.load(archivo)"
   ]
  },
  {
   "cell_type": "code",
   "execution_count": null,
   "id": "93596ea6-ddc2-4efc-84a5-435a24904314",
   "metadata": {
    "tags": []
   },
   "outputs": [],
   "source": [
    "from sklearn.metrics import accuracy_score\n",
    "# Dividir los datos en un conjunto de entrenamiento y un conjunto de prueba\n",
    "X_train, X_test, y_train, y_test = train_test_split(X, y, test_size=0.2, random_state=0)\n",
    "\n",
    "# Realizar PCA para reducir el número de características\n",
    "from model import myPCA\n",
    "pca = myPCA(n_components=50,method=\"svd\")\n",
    "X_train_pca = pca.fit(X_train)\n",
    "X_test_pca = pca.fit_transform(X_test)\n",
    "\n",
    "# Entrenar un clasificador logístico en los datos de PCA\n",
    "clf = LogisticRegression(random_state=0, max_iter=1000)\n",
    "clf.fit(X_train_pca, y_train)\n",
    "\n",
    "# Predecir en los datos de prueba y calcular la precisión\n",
    "y_pred = clf.predict(X_test_pca)\n",
    "accuracy = accuracy_score(y_test, y_pred)\n",
    "\n",
    "print(\"Precisión del clasificador logístico con PCA: {:.2f}%\".format(accuracy * 100))"
   ]
  },
  {
   "cell_type": "code",
   "execution_count": null,
   "id": "3b1ad53d-d449-477f-9645-43abe4a63958",
   "metadata": {},
   "outputs": [],
   "source": [
    "# create a PCA object with 2 components\n",
    "from model import myPCA\n",
    "pca = myPCA(n_components=700,method=\"svd\")\n",
    "X_eigenMN= X.copy()\n",
    "# fit the data\n",
    "pca.fit(X_eigenMN)\n",
    "\n",
    "# transform the data using the PCA object\n",
    "X_transformed_eigenMN = pca.fit_transform(X_eigenMN)\n",
    "\n",
    "\n",
    "print(X_transformed_eigenMN.shape)\n",
    "\n",
    "X_train, X_test, y_train, y_test = train_test_split(X_transformed_eigenMN, y, test_size=0.2, random_state=42)\n",
    "model = LogisticRegression(penalty='none', solver='saga')\n",
    "model.fit(X_train, y_train)\n",
    "accuracy = model.score(X_test, y_test)\n",
    "print('Test accuracy PCA - eigen : %.2f%%' % (accuracy * 100))\n",
    "# Predecir en los datos de prueba y calcular la precisión\n",
    "y_pred = model.predict(X_test)\n",
    "accuracy = accuracy_score(y_test, y_pred)\n",
    "\n",
    "print(\"Precisión del clasificador logístico con PCA: {:.2f}%\".format(accuracy * 100))"
   ]
  },
  {
   "cell_type": "code",
   "execution_count": null,
   "id": "8cd5cc75-45f7-4b2a-aad7-d4ac467920d4",
   "metadata": {},
   "outputs": [],
   "source": [
    "# Load the image and convert it to grayscale\n",
    "from PIL import Image\n",
    "img = Image.open('ocho.jpeg').convert('L')\n",
    "img = img.resize((28, 28))\n",
    "img = np.array(img).astype('float32') / 255.0\n",
    "img=img.reshape(1, 784)\n",
    "\n",
    "from model import myPCA\n",
    "myPCA = myPCA(n_components=700,method=\"svd\")\n",
    "\n",
    "# fit the data\n",
    "myPCA.fit(img)\n",
    "\n",
    "# transform the data using the PCA object\n",
    "test = myPCA.fit_transform(img)"
   ]
  },
  {
   "cell_type": "code",
   "execution_count": null,
   "id": "e094d656-cbb2-4551-a6fd-51c7dded9ab6",
   "metadata": {
    "tags": []
   },
   "outputs": [],
   "source": [
    "test.shape"
   ]
  },
  {
   "cell_type": "code",
   "execution_count": null,
   "id": "41004c1b-5e2f-4ed9-842a-32aa658f4afa",
   "metadata": {},
   "outputs": [],
   "source": [
    "\n",
    "# pred = model.predict(img.reshape(1, 784))\n",
    "pred = model.predict(test)\n",
    "\n",
    "print('Predecilo pues:', pred[0])"
   ]
  },
  {
   "cell_type": "code",
   "execution_count": null,
   "id": "0c2547b4-3ea7-4a1e-9218-c85fb1431c82",
   "metadata": {},
   "outputs": [],
   "source": [
    "# # Descargar el conjunto de datos MNIST\n",
    "# mnist = fetch_openml('mnist_784')\n",
    "# X = mnist.data / 255.0  # Normalizar los datos\n",
    "# y = mnist.target\n",
    "from sklearn.metrics import accuracy_score\n",
    "# Dividir los datos en un conjunto de entrenamiento y un conjunto de prueba\n",
    "X_train, X_test, y_train, y_test = train_test_split(X, y, test_size=0.2, random_state=0)\n",
    "\n",
    "# Realizar PCA para reducir el número de características\n",
    "pca = PCA(n_components=50) # Reducir a 50 características\n",
    "X_train_pca = pca.fit_transform(X_train)\n",
    "X_test_pca = pca.transform(X_test)\n",
    "\n",
    "# Entrenar un clasificador logístico en los datos de PCA\n",
    "clf = LogisticRegression(random_state=0, max_iter=1000)\n",
    "clf.fit(X_train_pca, y_train)\n",
    "\n",
    "# Predecir en los datos de prueba y calcular la precisión\n",
    "y_pred = clf.predict(X_test_pca)\n",
    "accuracy = accuracy_score(y_test, y_pred)\n",
    "\n",
    "print(\"Precisión del clasificador logístico con PCA: {:.2f}%\".format(accuracy * 100))"
   ]
  },
  {
   "cell_type": "code",
   "execution_count": null,
   "id": "9ace80c2-54ea-4c8b-ba8f-0c279e272819",
   "metadata": {
    "tags": []
   },
   "outputs": [],
   "source": [
    "mnist"
   ]
  },
  {
   "cell_type": "code",
   "execution_count": null,
   "id": "8e6fea5f-c207-4f27-bd38-d484173d4287",
   "metadata": {},
   "outputs": [],
   "source": [
    "X.shape[0]"
   ]
  },
  {
   "cell_type": "code",
   "execution_count": null,
   "id": "f571a938-4bfd-4158-986b-c30712e06780",
   "metadata": {
    "tags": []
   },
   "outputs": [],
   "source": [
    "import matplotlib.pyplot as plt\n",
    "from sklearn.datasets import fetch_openml\n",
    "\n",
    "mnist = fetch_openml('mnist_784')\n",
    "X, y = mnist[\"data\"], mnist[\"target\"]"
   ]
  },
  {
   "cell_type": "code",
   "execution_count": null,
   "id": "1a034a1a-7ec4-41fd-abcf-9a000e9c66da",
   "metadata": {},
   "outputs": [],
   "source": [
    "# seleccionamos algunos números al azar del conjunto de datos\n",
    "random_indices = np.random.choice(X.shape[0], size=25, replace=False)\n",
    "some_digits = X.iloc[random_indices]\n",
    "some_digits_labels = y[random_indices]\n",
    "\n",
    "# mostramos las imágenes de los números seleccionados\n",
    "plt.figure(figsize=(10, 10))\n",
    "for i in range(25):\n",
    "    plt.subplot(5, 5, i + 1)\n",
    "    plt.imshow(some_digits.iloc[i].values.reshape(28, 28), cmap=\"binary\")\n",
    "    plt.axis(\"off\")\n",
    "    plt.title(some_digits_labels.iloc[i])\n",
    "plt.show()"
   ]
  }
 ],
 "metadata": {
  "kernelspec": {
   "display_name": "Python 3 (ipykernel)",
   "language": "python",
   "name": "python3"
  },
  "language_info": {
   "codemirror_mode": {
    "name": "ipython",
    "version": 3
   },
   "file_extension": ".py",
   "mimetype": "text/x-python",
   "name": "python",
   "nbconvert_exporter": "python",
   "pygments_lexer": "ipython3",
   "version": "3.9.13"
  },
  "toc-autonumbering": false,
  "toc-showmarkdowntxt": false
 },
 "nbformat": 4,
 "nbformat_minor": 5
}
