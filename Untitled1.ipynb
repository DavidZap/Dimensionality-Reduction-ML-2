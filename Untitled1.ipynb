{
 "cells": [
  {
   "cell_type": "code",
   "execution_count": 1,
   "id": "e99f8636-5949-4422-a4c8-ad1c5d35f90e",
   "metadata": {},
   "outputs": [],
   "source": [
    "from sklearn.model_selection import train_test_split\n",
    "from sklearn.linear_model import LogisticRegression\n",
    "\n",
    "import matplotlib.pyplot as plt\n",
    "from sklearn.datasets import fetch_openml\n",
    "import numpy as np\n",
    "from PIL import Image\n",
    "from sklearn.metrics import accuracy_score\n",
    "import pickle\n"
   ]
  },
  {
   "cell_type": "code",
   "execution_count": 2,
   "id": "d042846e-f875-461d-9bf7-f33248573150",
   "metadata": {},
   "outputs": [],
   "source": [
    "import pandas as pd"
   ]
  },
  {
   "cell_type": "code",
   "execution_count": 3,
   "id": "8a9c283d-960c-491e-9e13-8e342cdd69c8",
   "metadata": {},
   "outputs": [],
   "source": [
    "mnist = fetch_openml('mnist_784', version=1)"
   ]
  },
  {
   "cell_type": "code",
   "execution_count": 4,
   "id": "2fb5064a-b5f1-4fbb-99e7-d6b926230e00",
   "metadata": {},
   "outputs": [],
   "source": [
    "# X.to_json()"
   ]
  },
  {
   "cell_type": "code",
   "execution_count": 5,
   "id": "8d83e26b-6218-419f-9c5d-e0e08f123f94",
   "metadata": {},
   "outputs": [],
   "source": [
    "from model import myPCA\n",
    "myPCA = myPCA(n_components=2)"
   ]
  },
  {
   "cell_type": "code",
   "execution_count": 6,
   "id": "d9562149-d945-46ca-94b1-9731d117c68b",
   "metadata": {},
   "outputs": [],
   "source": [
    "X = mnist.data.astype('float32')\n",
    "y = mnist.target.astype('int64')\n",
    "mask = np.logical_or(y == 0, y == 8)\n",
    "X = X[mask]\n",
    "y = y[mask]\n",
    "X /= 255.0\n",
    "\n",
    "X_eigenMN= X.copy()\n",
    "# fit the data\n",
    "myPCA.fit(X_eigenMN)\n",
    "\n",
    "# transform the data using the PCA object\n",
    "X_transformed_eigenMN = myPCA.fit_transform(X_eigenMN)\n",
    "\n",
    "# X_train, X_test, y_train, y_test = train_test_split(X_transformed_eigenMN, y, test_size=0.2, random_state=42)"
   ]
  },
  {
   "cell_type": "code",
   "execution_count": 7,
   "id": "d8c90e0f-b5e1-4205-aeb9-f5e40fa5f3f7",
   "metadata": {},
   "outputs": [],
   "source": [
    "X_transformed_eigenMN=np.real(X_transformed_eigenMN)"
   ]
  },
  {
   "cell_type": "code",
   "execution_count": 8,
   "id": "907506d8-a9db-46c5-b1d9-5d8d26f34e13",
   "metadata": {},
   "outputs": [
    {
     "name": "stdout",
     "output_type": "stream",
     "text": [
      "Test accuracy PCA - eigen : 95.45%\n"
     ]
    }
   ],
   "source": [
    "X_train, X_test, y_train, y_test = train_test_split(X_transformed_eigenMN, y, test_size=0.2, random_state=42)\n",
    "model = LogisticRegression(penalty='none', solver='saga')\n",
    "model.fit(X_train, y_train)\n",
    "accuracy = model.score(X_test, y_test)\n",
    "print('Test accuracy PCA - eigen : %.2f%%' % (accuracy * 100))"
   ]
  },
  {
   "cell_type": "code",
   "execution_count": 9,
   "id": "d01c35ff-60b1-4ff3-92af-fbf3ea39754d",
   "metadata": {},
   "outputs": [
    {
     "data": {
      "text/plain": [
       "(1, 784)"
      ]
     },
     "execution_count": 9,
     "metadata": {},
     "output_type": "execute_result"
    }
   ],
   "source": [
    "np.array(np.mean(X_eigenMN, axis=0)).reshape(1,-1).shape"
   ]
  },
  {
   "cell_type": "code",
   "execution_count": 10,
   "id": "fb583515-366d-4796-b5a1-41f77794aba3",
   "metadata": {},
   "outputs": [],
   "source": [
    "x=X_eigenMN\n",
    "n_components=2\n",
    "cov_matrix=np.cov(x, rowvar=False)\n",
    "#take de eingevalues and eingevector\n",
    "eigenvalues, eigenvectors = np.linalg.eig(cov_matrix)\n",
    "#sort them\n",
    "sorted_indexes = np.argsort(eigenvalues)[::-1]\n",
    "sorted_eigenvalues = eigenvalues[sorted_indexes]\n",
    "sorted_eigenvectors = eigenvectors[:,sorted_indexes]\n",
    "#take the sorted componentes we need\n",
    "selected_eigenvectors = sorted_eigenvectors[:, :n_components]"
   ]
  },
  {
   "cell_type": "code",
   "execution_count": 11,
   "id": "980d0725-e2ad-48a4-bf8e-1da7625ea408",
   "metadata": {},
   "outputs": [],
   "source": [
    "# guardar modelo en archivo\n",
    "with open('modelo_PCA_EIGEN2.pkl', 'wb') as archivo:\n",
    "    pickle.dump(model, archivo)"
   ]
  },
  {
   "cell_type": "code",
   "execution_count": 12,
   "id": "263e097c-32f6-4d16-807f-575ae3702a47",
   "metadata": {},
   "outputs": [],
   "source": [
    "with open('modelo_PCA_EIGEN2.pkl', 'rb') as archivo:\n",
    "    model = pickle.load(archivo)"
   ]
  },
  {
   "cell_type": "code",
   "execution_count": 13,
   "id": "07d79d8f-d528-44f5-9a9f-6eb983668b14",
   "metadata": {},
   "outputs": [
    {
     "data": {
      "text/plain": [
       "(13728, 784)"
      ]
     },
     "execution_count": 13,
     "metadata": {},
     "output_type": "execute_result"
    }
   ],
   "source": [
    "X_eigenMN.shape"
   ]
  },
  {
   "cell_type": "code",
   "execution_count": 14,
   "id": "64343f16-04b8-4662-9a3b-eaa78ecea1ab",
   "metadata": {},
   "outputs": [
    {
     "name": "stdout",
     "output_type": "stream",
     "text": [
      "Predecilo pues: 8\n"
     ]
    }
   ],
   "source": [
    "img = Image.open('ocho.png').convert('L')\n",
    "img = img.resize((28, 28))\n",
    "img = np.array(img).astype('float32') / 255.0\n",
    "img2=img.reshape(1,-1)\n",
    "# myPCA.fit(X_eigenMN)\n",
    "img_reduced = myPCA.fit_transform(img2)\n",
    "pred = model.predict(img_reduced)\n",
    "print('Predecilo pues:', pred[0])"
   ]
  },
  {
   "cell_type": "code",
   "execution_count": null,
   "id": "573d1eca-b5bf-4a36-a31e-99f65d496751",
   "metadata": {},
   "outputs": [],
   "source": [
    "from model import myPCA\n",
    "myPCA = myPCA(n_components=2,method=\"svd\")\n",
    "\n",
    "X_svd= X.copy()\n",
    "# fit the data\n",
    "myPCA.fit(X_svd)\n",
    "\n",
    "# transform the data using the PCA object\n",
    "X_transformed_eigenMN = myPCA.fit_transform(X_eigenMN)\n",
    "\n",
    "X_train, X_test, y_train, y_test = train_test_split(X_transformed_eigenMN, y, test_size=0.2, random_state=42)\n",
    "model = LogisticRegression(penalty='none', solver='saga')\n",
    "model.fit(X_train, y_train)\n",
    "accuracy = model.score(X_test, y_test)\n",
    "print('Test accuracy PCA - eigen : %.2f%%' % (accuracy * 100))\n",
    "\n",
    "# guardar modelo en archivo\n",
    "with open('modelo_PCA_EIGEN2.pkl', 'wb') as archivo:\n",
    "    pickle.dump(model, archivo)\n",
    "    \n",
    "with open('modelo_PCA_EIGEN2.pkl', 'rb') as archivo:\n",
    "    model = pickle.load(archivo)\n",
    "    \n",
    "img = Image.open('ocho.png').convert('L')\n",
    "img = img.resize((28, 28))\n",
    "img = np.array(img).astype('float32') / 255.0\n",
    "img2=img.reshape(1,-1)\n",
    "# myPCA.fit(X_eigenMN)\n",
    "img_reduced = myPCA.fit_transform(img2)\n",
    "pred = model.predict(img_reduced)\n",
    "print('Predecilo pues:', pred[0])  \n",
    "\n"
   ]
  }
 ],
 "metadata": {
  "kernelspec": {
   "display_name": "Python 3 (ipykernel)",
   "language": "python",
   "name": "python3"
  },
  "language_info": {
   "codemirror_mode": {
    "name": "ipython",
    "version": 3
   },
   "file_extension": ".py",
   "mimetype": "text/x-python",
   "name": "python",
   "nbconvert_exporter": "python",
   "pygments_lexer": "ipython3",
   "version": "3.9.13"
  }
 },
 "nbformat": 4,
 "nbformat_minor": 5
}
